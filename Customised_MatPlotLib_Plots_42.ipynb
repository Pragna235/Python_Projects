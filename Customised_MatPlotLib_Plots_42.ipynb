{
  "nbformat": 4,
  "nbformat_minor": 0,
  "metadata": {
    "colab": {
      "provenance": [],
      "collapsed_sections": [],
      "include_colab_link": true
    },
    "kernelspec": {
      "name": "python3",
      "display_name": "Python 3"
    }
  },
  "cells": [
    {
      "cell_type": "markdown",
      "metadata": {
        "id": "view-in-github",
        "colab_type": "text"
      },
      "source": [
        "<a href=\"https://colab.research.google.com/github/Pragna235/Python_Projects/blob/main/Customised_MatPlotLib_Plots_42.ipynb\" target=\"_parent\"><img src=\"https://colab.research.google.com/assets/colab-badge.svg\" alt=\"Open In Colab\"/></a>"
      ]
    },
    {
      "cell_type": "markdown",
      "metadata": {
        "id": "YZnBY81YDCCr"
      },
      "source": [
        "### Instructions"
      ]
    },
    {
      "cell_type": "markdown",
      "metadata": {
        "id": "fIKnY8occu37"
      },
      "source": [
        "#### Goal of the Project\n",
        "\n",
        "This project is designed for you to practice and solve the activities that are based on the concepts covered in the following lessons:\n",
        "\n",
        "1. String Operations\n",
        "\n",
        "2. Python Dictionary\n",
        "\n",
        "3. Customised matplotlib Plots\n",
        "\n",
        "\n",
        "\n",
        "\n",
        "\n",
        "\n"
      ]
    },
    {
      "cell_type": "markdown",
      "metadata": {
        "id": "4GlOMTG2w1en"
      },
      "source": [
        "---"
      ]
    },
    {
      "cell_type": "markdown",
      "metadata": {
        "id": "5v6BZp_fw2Qv"
      },
      "source": [
        "#### Getting Started:\n",
        "\n",
        "1. Click on this link to open the Colab file for this project.\n",
        "\n",
        "    https://colab.research.google.com/drive/1-8txjMJ_m70LfabYnyeYGDlZg_LhCbS2\n",
        "\n",
        "2. Create a duplicate copy of the Colab file as described below.\n",
        "\n",
        "  - Click on the **File menu**. A new drop-down list will appear.\n",
        "\n",
        "   <img src='https://student-datasets-bucket.s3.ap-south-1.amazonaws.com/images/lesson-0/0_file_menu.png' width=500>\n",
        "\n",
        "  - Click on the **Save a copy in Drive** option. A duplicate copy will get created. It will open up in the new tab on your web browser.\n",
        "\n",
        "  <img src='https://student-datasets-bucket.s3.ap-south-1.amazonaws.com/images/lesson-0/1_create_colab_duplicate_copy.png' width=500>\n",
        "\n",
        "3. After creating the duplicate copy of the notebook, please rename it in the **YYYY-MM-DD_StudentName_Project42** format.\n",
        "\n",
        "4. Now, write your code in the prescribed code cells.\n"
      ]
    },
    {
      "cell_type": "markdown",
      "metadata": {
        "id": "BBqkpH4_Doqe"
      },
      "source": [
        "---"
      ]
    },
    {
      "cell_type": "markdown",
      "metadata": {
        "id": "H0P9F3DUf8x2"
      },
      "source": [
        "### Activities\n",
        "\n",
        "\n",
        "  "
      ]
    },
    {
      "cell_type": "markdown",
      "metadata": {
        "id": "0dG-Pm9-UpYh"
      },
      "source": [
        "#### Activity 1: Create Customized Line plots.\n",
        "\n",
        "Given the dataset of the average annual salary (in dollars) of developers of various programming languages. Create customized line plots to compare the salary variations **Age-wise** for **Python** developer with **Javascript** developer.\n",
        "\n",
        "**Link to the Dataset**: https://raw.githubusercontent.com/CoreyMSchafer/code_snippets/master/Python/Matplotlib/10-Subplots/data.csv "
      ]
    },
    {
      "cell_type": "code",
      "metadata": {
        "id": "yYlWfTFxUx8C",
        "colab": {
          "base_uri": "https://localhost:8080/",
          "height": 204
        },
        "outputId": "11194220-557b-4315-ff2f-8130f1c8c537"
      },
      "source": [
        "# Step 1: Import necessary modules to create dataframe and line plots \n",
        "import numpy as np\n",
        "import pandas as pd\n",
        "import matplotlib.pyplot as plt\n",
        "import seaborn as sns\n",
        "\n",
        "# Step 2: Create a Dataframe and store it in a variable from the given dataset\n",
        "df=pd.read_csv(\"https://raw.githubusercontent.com/CoreyMSchafer/code_snippets/master/Python/Matplotlib/10-Subplots/data.csv\")\n",
        "\n",
        "# Print the first 5 rows in the DataFrame\n",
        "df.head()"
      ],
      "execution_count": null,
      "outputs": [
        {
          "output_type": "execute_result",
          "data": {
            "text/html": [
              "<div>\n",
              "<style scoped>\n",
              "    .dataframe tbody tr th:only-of-type {\n",
              "        vertical-align: middle;\n",
              "    }\n",
              "\n",
              "    .dataframe tbody tr th {\n",
              "        vertical-align: top;\n",
              "    }\n",
              "\n",
              "    .dataframe thead th {\n",
              "        text-align: right;\n",
              "    }\n",
              "</style>\n",
              "<table border=\"1\" class=\"dataframe\">\n",
              "  <thead>\n",
              "    <tr style=\"text-align: right;\">\n",
              "      <th></th>\n",
              "      <th>Age</th>\n",
              "      <th>All_Devs</th>\n",
              "      <th>Python</th>\n",
              "      <th>JavaScript</th>\n",
              "    </tr>\n",
              "  </thead>\n",
              "  <tbody>\n",
              "    <tr>\n",
              "      <th>0</th>\n",
              "      <td>18</td>\n",
              "      <td>17784</td>\n",
              "      <td>20046</td>\n",
              "      <td>16446</td>\n",
              "    </tr>\n",
              "    <tr>\n",
              "      <th>1</th>\n",
              "      <td>19</td>\n",
              "      <td>16500</td>\n",
              "      <td>17100</td>\n",
              "      <td>16791</td>\n",
              "    </tr>\n",
              "    <tr>\n",
              "      <th>2</th>\n",
              "      <td>20</td>\n",
              "      <td>18012</td>\n",
              "      <td>20000</td>\n",
              "      <td>18942</td>\n",
              "    </tr>\n",
              "    <tr>\n",
              "      <th>3</th>\n",
              "      <td>21</td>\n",
              "      <td>20628</td>\n",
              "      <td>24744</td>\n",
              "      <td>21780</td>\n",
              "    </tr>\n",
              "    <tr>\n",
              "      <th>4</th>\n",
              "      <td>22</td>\n",
              "      <td>25206</td>\n",
              "      <td>30500</td>\n",
              "      <td>25704</td>\n",
              "    </tr>\n",
              "  </tbody>\n",
              "</table>\n",
              "</div>"
            ],
            "text/plain": [
              "   Age  All_Devs  Python  JavaScript\n",
              "0   18     17784   20046       16446\n",
              "1   19     16500   17100       16791\n",
              "2   20     18012   20000       18942\n",
              "3   21     20628   24744       21780\n",
              "4   22     25206   30500       25704"
            ]
          },
          "metadata": {
            "tags": []
          },
          "execution_count": 12
        }
      ]
    },
    {
      "cell_type": "code",
      "metadata": {
        "id": "KYfflY2cd3Ow",
        "colab": {
          "base_uri": "https://localhost:8080/",
          "height": 328
        },
        "outputId": "9cd3a938-cf49-40cf-c04e-b8c1f0d34808"
      },
      "source": [
        "# Step 3: Create a customised line plot for comparing the Age-wise annual salary variations for Python developer with JavaScript developer.  Use the 'seaborn-dark' style\n",
        "\n",
        "\n",
        "plt.style.use('seaborn-dark')\n",
        "plt.figure(figsize=(23,8))\n",
        "plt.plot(df['Age'],df['Python'],'go-',label='Python')\n",
        "plt.plot(df['Age'],df['JavaScript'],'ko--',label='JavaScript')\n",
        "plt.legend()\n",
        "plt.show()"
      ],
      "execution_count": null,
      "outputs": [
        {
          "output_type": "display_data",
          "data": {
            "image/png": "[encoded data removed]",
            "text/plain": [
              "<Figure size 1656x576 with 1 Axes>"
            ]
          },
          "metadata": {
            "tags": []
          }
        }
      ]
    },
    {
      "cell_type": "markdown",
      "metadata": {
        "id": "PLSY4nu0UzCj"
      },
      "source": [
        "**Q**: What can you conclude from the above comparison ?\n",
        "\n",
        "**A**: From the above comparison I conclude that the salaries of python developers are high than the salaries of JavaScript developers in most cases."
      ]
    },
    {
      "cell_type": "markdown",
      "metadata": {
        "id": "ftOXrP5NUzsZ"
      },
      "source": [
        "---"
      ]
    },
    {
      "cell_type": "markdown",
      "metadata": {
        "id": "BVT9G_baB1aq"
      },
      "source": [
        "#### Activity 2:  Find Reverse Complement of RNA\n",
        "\n",
        "**Ribonucleic acid** (RNA) is a polymeric molecule essential in various biological roles in coding, decoding, regulation and expression of genes. RNA and DNA are nucleic acids.\n",
        "\n",
        "Create a function (let's say `reverse_complement()`) that finds the **reverse complement** of a ribonucleic acid (**RNA**) strand. \n",
        "\n",
        "The **reverse complement** of **RNA** sequence is formed by reversing the letters, interchanging `A` with `U` and `G` with `C` and vice-versa.\n",
        "\n",
        "The **RNA** will be represented as a string containing only the characters `\"A\", \"C\", \"G\"` and `\"U\"`. Since **RNA** can only (canonically) allow pairings of A/U and G/C, the complement of an **RNA** would be as follows:\n",
        "\n",
        "```\n",
        "original -> complement\n",
        "\n",
        "\"AAA\" -> \"UUU\"\n",
        "\n",
        "\"UUU\" -> \"AAA\"\n",
        "\n",
        "\"GGG\" -> \"CCC\"\n",
        "\n",
        "\"CCC\" -> \"GGG\"\n",
        "\n",
        "\"GGAACC\" -> \"CCAAGG\"\n",
        "```\n",
        "\n",
        "Your function should find the complement on the right and also reverse the resulting string.\n",
        "\n",
        "**Examples**\n",
        "```\n",
        "reverse_complement(\"GUGU\") ➞ \"ACAC\"\n",
        "\n",
        "reverse_complement(\"UCUCG\") ➞ \"CGAGA\"\n",
        "\n",
        "reverse_complement(\"CAGGU\") ➞ \"ACCUG\"\n",
        "```"
      ]
    },
    {
      "cell_type": "code",
      "metadata": {
        "id": "0pIGxKG9B3mb",
        "colab": {
          "base_uri": "https://localhost:8080/"
        },
        "outputId": "9ef5f516-577e-4379-ca11-a6b5bab72590"
      },
      "source": [
        "# Write a program to print the reverse complement of RNA.\n",
        "# Replace A with U, G with C, C with G, U with A. Use python dictionary to store the original and their complement values in the form of key-value pair\n",
        "def reverse_complement(original):\n",
        "  empty=[]\n",
        "  dict_1={'A':'U','U':'A','G':'C','C':'G'}\n",
        "  for item in original:\n",
        "    if item in dict_1:\n",
        "      dict_2=[dict_1[item] for value in dict_1.values()]\n",
        "      empty.append(dict_2[0])\n",
        "  return empty[::-1]\n",
        "\n",
        "\n",
        "\n",
        "reverse_complement(\"UCUCG\")"
      ],
      "execution_count": null,
      "outputs": [
        {
          "output_type": "execute_result",
          "data": {
            "text/plain": [
              "['C', 'G', 'A', 'G', 'A']"
            ]
          },
          "metadata": {
            "tags": []
          },
          "execution_count": 28
        }
      ]
    },
    {
      "cell_type": "markdown",
      "metadata": {
        "id": "IJIZASayCpEW"
      },
      "source": [
        "---"
      ]
    },
    {
      "cell_type": "markdown",
      "metadata": {
        "id": "CKg-ZtsFxgdK"
      },
      "source": [
        "### Submitting the Project:\n",
        "\n",
        "1. After finishing the project, click on the **Share** button on the top right corner of the notebook. A new dialog box will appear.\n",
        "\n",
        "  <img src='https://student-datasets-bucket.s3.ap-south-1.amazonaws.com/images/project-share-images/2_share_button.png' width=500>\n",
        "\n",
        "2. In the dialog box, make sure that '**Anyone on the Internet with this link can view**' option is selected and then click on the **Copy link** button.\n",
        "\n",
        "   <img src='https://student-datasets-bucket.s3.ap-south-1.amazonaws.com/images/project-share-images/3_copy_link.png' width=500>\n",
        "\n",
        "3. The link of the duplicate copy (named as **YYYY-MM-DD_StudentName_Project42**) of the notebook will get copied \n",
        "\n",
        "   <img src='https://student-datasets-bucket.s3.ap-south-1.amazonaws.com/images/project-share-images/4_copy_link_confirmation.png' width=500>\n",
        "\n",
        "4. Go to your dashboard and click on the **My Projects** option.\n",
        "   \n",
        "   <img src='https://student-datasets-bucket.s3.ap-south-1.amazonaws.com/images/project-share-images/5_student_dashboard.png' width=800>\n",
        "\n",
        "  <img src='https://student-datasets-bucket.s3.ap-south-1.amazonaws.com/images/project-share-images/6_my_projects.png' width=800>\n",
        "\n",
        "5. Click on the **View Project** button for the project you want to submit.\n",
        "\n",
        "   <img src='https://student-datasets-bucket.s3.ap-south-1.amazonaws.com/images/project-share-images/7_view_project.png' width=800>\n",
        "\n",
        "6. Click on the **Submit Project Here** button.\n",
        "\n",
        "   <img src='https://student-datasets-bucket.s3.ap-south-1.amazonaws.com/images/project-share-images/8_submit_project.png' width=800>\n",
        "\n",
        "7. Paste the link to the project file named as **YYYY-MM-DD_StudentName_Project42** in the URL box and then click on the **Submit** button.\n",
        "\n",
        "   <img src='https://student-datasets-bucket.s3.ap-south-1.amazonaws.com/images/project-share-images/9_enter_project_url.png' width=800> "
      ]
    },
    {
      "cell_type": "markdown",
      "metadata": {
        "id": "sxsoj9uRxfUF"
      },
      "source": [
        "---"
      ]
    }
  ]
}