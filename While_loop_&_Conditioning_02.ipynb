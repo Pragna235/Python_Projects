{
  "nbformat": 4,
  "nbformat_minor": 0,
  "metadata": {
    "colab": {
      "provenance": [],
      "collapsed_sections": [],
      "include_colab_link": true
    },
    "kernelspec": {
      "name": "python3",
      "display_name": "Python 3"
    }
  },
  "cells": [
    {
      "cell_type": "markdown",
      "metadata": {
        "id": "view-in-github",
        "colab_type": "text"
      },
      "source": [
        "<a href=\"https://colab.research.google.com/github/Pragna235/Python_Projects/blob/main/While_loop_%26_Conditioning_02.ipynb\" target=\"_parent\"><img src=\"https://colab.research.google.com/assets/colab-badge.svg\" alt=\"Open In Colab\"/></a>"
      ]
    },
    {
      "cell_type": "markdown",
      "metadata": {
        "id": "YZnBY81YDCCr"
      },
      "source": [
        "### Instructions"
      ]
    },
    {
      "cell_type": "markdown",
      "metadata": {
        "id": "bEyBzxYRhrLG"
      },
      "source": [
        "#### Goal of the Project\n",
        "\n",
        "This project is designed for you to practice and solve the activities that are based on the concepts covered in the following lessons:\n",
        "\n",
        "1. Variables and Data-types.\n",
        "\n",
        "2. While Loop, Data-Type Conversion and Conditional Statements.\n"
      ]
    },
    {
      "cell_type": "markdown",
      "metadata": {
        "id": "DPOFIO3EHncO"
      },
      "source": [
        "---"
      ]
    },
    {
      "cell_type": "markdown",
      "metadata": {
        "id": "krym8CeMhscq"
      },
      "source": [
        "#### Getting Started:\n",
        "\n",
        "1. Click on this link to open the Colab file for this project.\n",
        "\n",
        "    https://colab.research.google.com/drive/1z_da3MR4F22ffPJQ2zx8Nhr0YaUVrokV?usp=sharing \n",
        "\n",
        "2. Create a duplicate copy of the Colab file as described below.\n",
        "\n",
        "  - Click on the **File menu**. A new drop-down list will appear.\n",
        "\n",
        "   <img src='https://student-datasets-bucket.s3.ap-south-1.amazonaws.com/images/lesson-0/0_file_menu.png' width=500>\n",
        "\n",
        "  - Click on the **Save a copy in Drive** option. A duplicate copy will get created. It will open up in the new tab on your web browser.\n",
        "\n",
        "  <img src='https://student-datasets-bucket.s3.ap-south-1.amazonaws.com/images/lesson-0/1_create_colab_duplicate_copy.png' width=500>\n",
        "\n",
        "3. After creating the duplicate copy of the notebook, please rename it in the **YYYY-MM-DD_StudentName_Project2** format.\n",
        "\n",
        "4. Now, write your code in the prescribed code cells.\n"
      ]
    },
    {
      "cell_type": "markdown",
      "metadata": {
        "id": "BBqkpH4_Doqe"
      },
      "source": [
        "---"
      ]
    },
    {
      "cell_type": "markdown",
      "metadata": {
        "id": "q4fH06mIjuK3"
      },
      "source": [
        "#### Activity 1: Print Even Numbers from 60 - 100\n",
        "\n",
        "Here you need to print all the even numbers from 60 - 100 (including both 60 and 100) using `while` loop. \n",
        "\n",
        "Follow the steps given below to achieve the desired result:\n",
        "\n",
        "- **Step 1**: Store the starting number i.e. `60` in a variable `num`.\n",
        "\n",
        "- **Step 2**: Define the condition for `while` loop. This loop must be executed till the value stored in variable `num` is less than or equal to `100`.\n",
        "\n",
        "- **Step 3**: Inside a `while` loop, first print the value stored in `num`, then increment the value of `num` by `2` to print the next even number.\n",
        "\n"
      ]
    },
    {
      "cell_type": "code",
      "metadata": {
        "id": "4EAoTskqg041",
        "colab": {
          "base_uri": "https://localhost:8080/"
        },
        "outputId": "2b844a0e-ec00-475f-cf91-35a3ef447c4b"
      },
      "source": [
        "# Print Even numbers from 60 - 100\n",
        "num=60\n",
        "\n",
        "while num<100:\n",
        "  print(num)\n",
        "  \n",
        "\n",
        "  num=num+2\n",
        "  \n",
        "  \n",
        "\n",
        "print(num)"
      ],
      "execution_count": null,
      "outputs": [
        {
          "output_type": "stream",
          "text": [
            "60\n",
            "62\n",
            "64\n",
            "66\n",
            "68\n",
            "70\n",
            "72\n",
            "74\n",
            "76\n",
            "78\n",
            "80\n",
            "82\n",
            "84\n",
            "86\n",
            "88\n",
            "90\n",
            "92\n",
            "94\n",
            "96\n",
            "98\n",
            "100\n"
          ],
          "name": "stdout"
        }
      ]
    },
    {
      "cell_type": "markdown",
      "metadata": {
        "id": "xJlPs9X9oeRw"
      },
      "source": [
        "---"
      ]
    },
    {
      "cell_type": "markdown",
      "metadata": {
        "id": "qA-b1CdeofKc"
      },
      "source": [
        "#### Activity 2: Football Points\n",
        "\n",
        "Ask the user to enter the number of `wins`, `draws` and `losses` as input for a football team. Write a program to calculate the number of points the football team has obtained so far. \n",
        "\n",
        "A win receives `3` points, a draw receives `1` point and a loss receives `0` points.\n",
        "\n",
        "**Example**:\n",
        "\n",
        "```\n",
        "Sample Input:\n",
        "\n",
        "            Enter the number of matches won by the football team: 5\n",
        "            Enter the number of matches ended as a draw: 0\n",
        "            Enter the number of matches that the football team lose : 2\n",
        "\n",
        "Sample Output:\n",
        "\n",
        "            The total number number of points for the team is 15\n",
        "```\n",
        "\n",
        "**Note**: The inputs must be numbers greater than or equal to `0`.\n",
        "\n",
        "Follow the steps given below to achieve the desired result:\n",
        "\n",
        "- **Step 1**: Ask the user to enter the number of **wins**, **draws** and **losses** of a football team and store them as integers in variables `wins`,  `draws` and `losses` respectively. \n",
        "\n",
        "- **Step 2**: Initialize a variable `total` with value `0`. This variable will be further used to store the total number of points gained by the football team.  \n",
        "\n",
        "- **Step 3**: Calculate the win points by multiplying the number of wins by 3, as 1 win give 3 points to the team. Store the result in a variable (lets say `win_points`)\n",
        "\n",
        "- **Step 4**: Add the values stored in `win_points` and `draws` and store the result in `total`. In this step we are adding the points gained when a match end up as a draw.\n",
        "\n",
        "- **Step 5**: Print the value stored in variable `total`."
      ]
    },
    {
      "cell_type": "code",
      "metadata": {
        "id": "AtvPTG3kpBoS",
        "colab": {
          "base_uri": "https://localhost:8080/"
        },
        "outputId": "573744bc-d31a-4189-bd2d-a8cca5dc45ae"
      },
      "source": [
        "# Solution\n",
        "# Step 1: Ask the user to enter the number of wins, draws and losses \n",
        "wins=input(\"wins=\")\n",
        "draws=input(\"draws=\")\n",
        "losses=input(\"losses=\")\n",
        "\n",
        "# Step 2: Initialize 'total' variable with '0'\n",
        "total=0\n",
        "\n",
        "# Step 3: Calculate the win points by multiplying the number of wins by 3\n",
        "wins=int(wins)\n",
        "draws=int(draws)\n",
        "win_points=wins*3\n",
        "\n",
        "# Step 4: Add the values stored in 'win_points' and draws and store the result in 'total'\n",
        "total=win_points+draws\n",
        "\n",
        "# Step 5: Print the value stored in variable 'total'\n",
        "print(\"total=\",total)"
      ],
      "execution_count": null,
      "outputs": [
        {
          "output_type": "stream",
          "text": [
            "wins=5\n",
            "draws=3\n",
            "losses=2\n",
            "total= 18\n"
          ],
          "name": "stdout"
        }
      ]
    },
    {
      "cell_type": "markdown",
      "metadata": {
        "id": "KOVBiUSMzut1"
      },
      "source": [
        "---"
      ]
    },
    {
      "cell_type": "markdown",
      "metadata": {
        "id": "omNV0VCwzzNK"
      },
      "source": [
        "#### Activity 3: On/Off Switches\n",
        "\n",
        "Create a program that ask the user to enter the number of switches and calculates the possible outcomes that can come from those many number of switches (on / off).\n",
        "\n",
        "<img src='https://i.imgur.com/D8ch79V.png' width = 150/>\n",
        "\n",
        "**Examples**\n",
        "\n",
        "possible outcomes that can come from 1 switch ➞ 2 (`on`, `off`)\n",
        "\n",
        "possible outcomes that can come from 3 switches ➞ 8 ((`on` `on` `on`), (`on` `on` `off`), (`on` `off` `on`), (`off` `on` `on`), (`off` `off` `on`), (`off` `off` `off`), (`off` `on` `off`), (`on` `off` `off`))\n",
        "\n",
        "possible outcomes that can come from 10 switches ➞ 1024"
      ]
    },
    {
      "cell_type": "code",
      "metadata": {
        "id": "3ekesgnN2ELc",
        "colab": {
          "base_uri": "https://localhost:8080/"
        },
        "outputId": "b1dcf36f-447d-41ea-c7b2-1e447a63bf21"
      },
      "source": [
        "# Step 1: Get the number of switches as an integer and store it in a variable.\n",
        "switches=input(\"Switches=\")\n",
        "# Step 2: Initialize 3 variables 'max_poss = 2', 'i = 1' & 'power = 1'\n",
        "max_poss=2\n",
        "i=1\n",
        "power=1\n",
        "\n",
        "# Step 3: Define a while loop with a condition to execute till the value of 'i <= switches'\n",
        "i=1\n",
        "switches=int(switches)\n",
        "\n",
        "while i<=switches:\n",
        "  i=i+1\n",
        "\n",
        "\n",
        "\n",
        "\n",
        "  \n",
        "# Step 4: Multiply 'max_poss' with 'power' and store the result in 'power'\n",
        "  power=max_poss*power\n",
        " \n",
        "\n",
        "\n",
        " # Increment the value of 'i' by '1'\n",
        "  \n",
        "\n",
        "# Step 5: Print the total number of possible outcomes stored in 'power'\n",
        "print(\"The total number of possible outcomes scored=\",power)"
      ],
      "execution_count": null,
      "outputs": [
        {
          "output_type": "stream",
          "text": [
            "Switches=4\n",
            "The total number of possible outcomes scored= 32\n"
          ],
          "name": "stdout"
        }
      ]
    },
    {
      "cell_type": "markdown",
      "metadata": {
        "id": "QQw2Bqml3ZN0"
      },
      "source": [
        "---"
      ]
    },
    {
      "cell_type": "markdown",
      "metadata": {
        "id": "2zrpyFDCQm3i"
      },
      "source": [
        "### Submitting the Project:\n",
        "\n",
        "1. After finishing the project, click on the **Share** button on the top right corner of the notebook. A new dialog box will appear.\n",
        "\n",
        "  <img src='https://student-datasets-bucket.s3.ap-south-1.amazonaws.com/images/project-share-images/2_share_button.png' width=500>\n",
        "\n",
        "2. In the dialog box, make sure that '**Anyone on the Internet with this link can view**' option is selected and then click on the **Copy link** button.\n",
        "\n",
        "   <img src='https://student-datasets-bucket.s3.ap-south-1.amazonaws.com/images/project-share-images/3_copy_link.png' width=500>\n",
        "\n",
        "3. The link of the duplicate copy (named as **YYYY-MM-DD_StudentName_Project2**) of the notebook will get copied \n",
        "\n",
        "   <img src='https://student-datasets-bucket.s3.ap-south-1.amazonaws.com/images/project-share-images/4_copy_link_confirmation.png' width=500>\n",
        "\n",
        "4. Go to your dashboard and click on the **My Projects** option.\n",
        "   \n",
        "   <img src='https://student-datasets-bucket.s3.ap-south-1.amazonaws.com/images/project-share-images/5_student_dashboard.png' width=800>\n",
        "\n",
        "  <img src='https://student-datasets-bucket.s3.ap-south-1.amazonaws.com/images/project-share-images/6_my_projects.png' width=800>\n",
        "\n",
        "5. Click on the **View Project** button for the project you want to submit.\n",
        "\n",
        "   <img src='https://student-datasets-bucket.s3.ap-south-1.amazonaws.com/images/project-share-images/7_view_project.png' width=800>\n",
        "\n",
        "6. Click on the **Submit Project Here** button.\n",
        "\n",
        "   <img src='https://student-datasets-bucket.s3.ap-south-1.amazonaws.com/images/project-share-images/8_submit_project.png' width=800>\n",
        "\n",
        "7. Paste the link to the project file named as **YYYY-MM-DD_StudentName_Project2** in the URL box and then click on the **Submit** button.\n",
        "\n",
        "   <img src='https://student-datasets-bucket.s3.ap-south-1.amazonaws.com/images/project-share-images/9_enter_project_url.png' width=800> "
      ]
    },
    {
      "cell_type": "markdown",
      "metadata": {
        "id": "HSz7jRSlGxIO"
      },
      "source": [
        "---"
      ]
    }
  ]
}