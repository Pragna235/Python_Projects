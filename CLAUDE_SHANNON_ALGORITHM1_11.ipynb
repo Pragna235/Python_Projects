{
  "nbformat": 4,
  "nbformat_minor": 0,
  "metadata": {
    "colab": {
      "provenance": [],
      "collapsed_sections": [],
      "include_colab_link": true
    },
    "kernelspec": {
      "name": "python3",
      "display_name": "Python 3"
    }
  },
  "cells": [
    {
      "cell_type": "markdown",
      "metadata": {
        "id": "view-in-github",
        "colab_type": "text"
      },
      "source": [
        "<a href=\"https://colab.research.google.com/github/Pragna235/Python_Projects/blob/main/CLAUDE_SHANNON_ALGORITHM1_11.ipynb\" target=\"_parent\"><img src=\"https://colab.research.google.com/assets/colab-badge.svg\" alt=\"Open In Colab\"/></a>"
      ]
    },
    {
      "cell_type": "markdown",
      "metadata": {
        "id": "YZnBY81YDCCr"
      },
      "source": [
        "### Instructions"
      ]
    },
    {
      "cell_type": "markdown",
      "metadata": {
        "id": "bEyBzxYRhrLG"
      },
      "source": [
        "#### Goal of the Project\n",
        "\n",
        "This project is designed for you to practice and solve the activities that are based on the concepts covered in the following lessons:\n",
        "\n",
        "  1.  Python List I\n",
        "  2.  Python List II\n",
        "  3.  NumPy Arrays I"
      ]
    },
    {
      "cell_type": "markdown",
      "metadata": {
        "id": "DPOFIO3EHncO"
      },
      "source": [
        "---"
      ]
    },
    {
      "cell_type": "markdown",
      "metadata": {
        "id": "krym8CeMhscq"
      },
      "source": [
        "#### Getting Started:\n",
        "\n",
        "1. Click on this link to open the Colab file for this project.\n",
        "\n",
        "    https://colab.research.google.com/drive/1T2XojnSKKf86cn0-3hgufv8c6G6gd9rZ?usp=sharing \n",
        "\n",
        "2. Create a duplicate copy of the Colab file as described below.\n",
        "\n",
        "  - Click on the **File menu**. A new drop-down list will appear.\n",
        "\n",
        "   <img src='https://student-datasets-bucket.s3.ap-south-1.amazonaws.com/images/lesson-0/0_file_menu.png' width=500>\n",
        "\n",
        "  - Click on the **Save a copy in Drive** option. A duplicate copy will get created. It will open up in the new tab on your web browser.\n",
        "\n",
        "  <img src='https://student-datasets-bucket.s3.ap-south-1.amazonaws.com/images/lesson-0/1_create_colab_duplicate_copy.png' width=500>\n",
        "\n",
        "3. After creating the duplicate copy of the notebook, please rename it in the **YYYY-MM-DD_StudentName_Project11** format.\n",
        "\n",
        "4. Now, write your code in the prescribed code cells.\n"
      ]
    },
    {
      "cell_type": "markdown",
      "metadata": {
        "id": "BBqkpH4_Doqe"
      },
      "source": [
        "---"
      ]
    },
    {
      "cell_type": "markdown",
      "metadata": {
        "id": "q4fH06mIjuK3"
      },
      "source": [
        "#### Activity 1: Find Occurrences of an Element in a List\n",
        "\n",
        "Create a function that returns the index or indices of all occurrences of an item in the list.\n",
        "\n",
        "**Note**\n",
        "\n",
        "- If an element does not exist in a list, return `[]`.\n",
        "\n",
        "- Lists are zero-indexed.\n",
        "\n",
        "**Examples**\n",
        "```\n",
        "get_indices([\"a\", \"a\", \"b\", \"a\", \"b\", \"a\"], \"a\") ➞ [0, 1, 3, 5]\n",
        "\n",
        "get_indices([1, 5, 5, 2, 7], 7) ➞ [4]\n",
        "\n",
        "get_indices([1, 5, 5, 2, 7], 5) ➞ [1, 2]\n",
        "\n",
        "get_indices([1, 5, 5, 2, 7], 8) ➞ []\n",
        "```\n",
        "\n",
        "Follow the steps given below to achieve the desired result:\n",
        "\n",
        "  - **Step 1**: Define a function with two parameters, first parameter will be the list of values i.e. `elements_list` and second parameter will be the item to be searched i.e. `key`.\n",
        "\n",
        "  - **Step 2**: Inside this function, create an empty list to store the result i.e. `result_list`.\n",
        "\n",
        "  - **Step 3**: Inside the function, `elements_list` list is iterated using `for` loop and `range()` function which traverses till the length of the `elements_list`. Use list indexing here.\n",
        "  \n",
        "    1. Inside `for` loop, check whether an element in the `elements_list` matches the item being searched i.e. `key`.\n",
        "    2. If it matches, then append the index number or position of that item in the `elements_list` to the `result_list`.\n",
        "\n",
        "    This `for` loop iterates till the end of `elements_list`.\n",
        "\n",
        "  - **Step 4**: Return the `result_list` list which contains the indices or positions of the item `key` in `elements_list`.\n",
        "\n",
        "  - **Step 5**: Call the function and pass the list of items and item to be searched to the list as parameters."
      ]
    },
    {
      "cell_type": "code",
      "metadata": {
        "id": "4EAoTskqg041",
        "colab": {
          "base_uri": "https://localhost:8080/"
        },
        "outputId": "dc463a35-1f07-485f-f27b-9c42e7139642"
      },
      "source": [
        "# Write your code here\n",
        "# Step 1: Define a function with list of items and item to be searched as parameters\n",
        "def get_indices(elements_list,key):\n",
        "\n",
        "\t# Step 2: Declare an empty list to hold the result\n",
        "  result_list=[]\n",
        "  length=len(elements_list)\n",
        "\t# Step 3: Create 'for' loop which runs till the length of the list \n",
        "  for i in range(length):\n",
        "    if elements_list[i]==key:\n",
        "      result_list.append(elements_list.index(key))\n",
        "\n",
        "      # Inside a for loop, check whether each element in the list is matching with the searched element\n",
        "      # If it matches, append the blank list with the element's index number \n",
        "\t\t\n",
        "  # Step 4: Return the result\n",
        "  return result_list\n",
        "\t\n",
        "# Step 5: Call the function \n",
        "get_indices([2,3,4,5],5)"
      ],
      "execution_count": null,
      "outputs": [
        {
          "output_type": "execute_result",
          "data": {
            "text/plain": [
              "[3]"
            ]
          },
          "metadata": {
            "tags": []
          },
          "execution_count": 10
        }
      ]
    },
    {
      "cell_type": "markdown",
      "metadata": {
        "id": "xJlPs9X9oeRw"
      },
      "source": [
        "---"
      ]
    },
    {
      "cell_type": "markdown",
      "metadata": {
        "id": "qA-b1CdeofKc"
      },
      "source": [
        "#### Activity 2: Subtract Elements of Two Lists\n",
        "\n",
        "Subtract elements of two lists only if element in the first list is greater than element in second list, else display the element of the first list.  \n",
        "\n",
        "Examples:\n",
        "```\n",
        "Original lists :\n",
        "[10, 20, 30, 40, 50, 60]\n",
        "[60, 50, 40, 30, 20, 10]\n",
        "\n",
        "Output list:\n",
        "[10, 20, 30, 10, 30, 50]\n",
        "```\n",
        "Follow the steps given below to achieve the desired result:\n",
        "\n",
        "  - **Step 1**: Declare two lists having equal number of random numbers.\n",
        "\n",
        "  - **Step 2**: Create a third empty list to store the result of subtraction.\n",
        "\n",
        "  - **Step 3**: Start a `for` loop which iterates till the length of the list.\n",
        "  \n",
        "  - **Step 4**: Inside the `for` loop, check whether first list element is greater than the second list element. If the condition is true, subtract the list elements and append it to the third list else just append the first list element to the third list using the `append()` function. \n",
        "\n",
        "  - **Step 5**: Print first and second lists.\n",
        "\n",
        "  - **Step 6**: Print the third list to see the subtracted values."
      ]
    },
    {
      "cell_type": "code",
      "metadata": {
        "id": "AtvPTG3kpBoS",
        "colab": {
          "base_uri": "https://localhost:8080/"
        },
        "outputId": "a2cab3d7-5ae3-43dd-c8fc-34d01a4cd0c5"
      },
      "source": [
        "# Write your code here\n",
        "# Step 1: Declare two lists with some random numbers\n",
        "list1=[12,23,34,45,56,67,78,89,90]\n",
        "list2=[9,18,27,36,45,54,63,91,81]\n",
        "\n",
        "# Step 2: Declare an empty list for storing the result\n",
        "result_list=[]\n",
        "length=len(list1)\n",
        "# Step 3: Start a 'for' loop which iterates till the length of the list\n",
        "for i in range(length):\n",
        "# Step 4: Inside 'for' loop, check whether first list element is greater than second list element\n",
        "    #If it is, then subtract the respective elements and append the result to the empty list using 'append()' function, else just append the first list element\n",
        "  if list1[i]>list2[i]:\n",
        "    result=list1[i]-list2[i]\n",
        "    result_list.append(result)\n",
        "# Step 5: Print both original lists         \n",
        "print(\"List1 = \",list1)\n",
        "print(\"List2 = \",list2)\n",
        "# Step 6: Print the third list where the new values are stored\n",
        "print(\"Result = \",result_list)"
      ],
      "execution_count": null,
      "outputs": [
        {
          "output_type": "stream",
          "text": [
            "List1 =  [12, 23, 34, 45, 56, 67, 78, 89, 90]\n",
            "List2 =  [9, 18, 27, 36, 45, 54, 63, 91, 81]\n",
            "Result =  [3, 5, 7, 9, 11, 13, 15, 9]\n"
          ],
          "name": "stdout"
        }
      ]
    },
    {
      "cell_type": "markdown",
      "metadata": {
        "id": "KOVBiUSMzut1"
      },
      "source": [
        "---"
      ]
    },
    {
      "cell_type": "markdown",
      "metadata": {
        "id": "b4aeCDi0pkJz"
      },
      "source": [
        "#### Activity 3: Convert Fahrenheit into Celsius\n",
        "\n",
        "Write a program to convert the values in Fahrenheit degrees into Celsius degrees. \n",
        "\n",
        "**Formula**:\n",
        "\n",
        "```\n",
        "celsius = (fahrenheit - 32) / 1.8\n",
        "```\n",
        "\n",
        "**Example**:\n",
        "\n",
        "```\n",
        "Values in Fahrenheit degrees:\n",
        "[ 0  32   45.21]\n",
        "Values in Celsius degrees:\n",
        "[-17.78   0  7.34]\n",
        "```\n",
        "\n",
        "Follow the steps given below to achieve the desired result:\n",
        "\n",
        "  - **Step 1**: Import `numpy` module.\n",
        "\n",
        "  - **Step 2**: Declare a list with some random numbers which represents the temperatures in Fahrenheit degrees.\n",
        "\n",
        "  - **Step 3**: Convert the list into NumPy array using `array()` function. Print this array\n",
        "\n",
        "  - **Step 4**: Use the formula to convert Fahrenheit to Celsius and print the converted values.\n",
        "\n",
        " "
      ]
    },
    {
      "cell_type": "code",
      "metadata": {
        "id": "d5ufKLNYzsIl",
        "colab": {
          "base_uri": "https://localhost:8080/"
        },
        "outputId": "26f2c4cb-d8fa-4bb0-afcc-306f54de076f"
      },
      "source": [
        "# Write your code here\n",
        "# Step 1: Import numpy module \n",
        "import numpy as np\n",
        "# Step 2: Create a list of temperatures in Fahrenheit degree\n",
        "fahrenheit_list=[0,32,45.21]\n",
        "# Step 3: Use array() function to convert list into array. Print this array\n",
        "fahrenheit_array=np.array(fahrenheit_list)\n",
        "print(\"Values in fahrenheit degrees = \",fahrenheit_array)\n",
        "# Step 4: Convert the values in Fahrenheit degrees to Celsius degrees using the above given formula and print \n",
        "celsius_values=(fahrenheit_array-32)/1.8\n",
        "print(\"Values in celsius degrees = \",celsius_values)"
      ],
      "execution_count": null,
      "outputs": [
        {
          "output_type": "stream",
          "text": [
            "Values in fahrenheit degrees =  [ 0.   32.   45.21]\n",
            "Values in celsius degrees =  [-17.77777778   0.           7.33888889]\n"
          ],
          "name": "stdout"
        }
      ]
    },
    {
      "cell_type": "markdown",
      "metadata": {
        "id": "BNlGj8NNJ1Y0"
      },
      "source": [
        "### Submitting the Project:\n",
        "\n",
        "1. After finishing the project, click on the **Share** button on the top right corner of the notebook. A new dialog box will appear.\n",
        "\n",
        "  <img src='https://student-datasets-bucket.s3.ap-south-1.amazonaws.com/images/project-share-images/2_share_button.png' width=500>\n",
        "\n",
        "2. In the dialog box, make sure that '**Anyone on the Internet with this link can view**' option is selected and then click on the **Copy link** button.\n",
        "\n",
        "   <img src='https://student-datasets-bucket.s3.ap-south-1.amazonaws.com/images/project-share-images/3_copy_link.png' width=500>\n",
        "\n",
        "3. The link of the duplicate copy (named as **YYYY-MM-DD_StudentName_Project11**) of the notebook will get copied \n",
        "\n",
        "   <img src='https://student-datasets-bucket.s3.ap-south-1.amazonaws.com/images/project-share-images/4_copy_link_confirmation.png' width=500>\n",
        "\n",
        "4. Go to your dashboard and click on the **My Projects** option.\n",
        "   \n",
        "   <img src='https://student-datasets-bucket.s3.ap-south-1.amazonaws.com/images/project-share-images/5_student_dashboard.png' width=800>\n",
        "\n",
        "  <img src='https://student-datasets-bucket.s3.ap-south-1.amazonaws.com/images/project-share-images/6_my_projects.png' width=800>\n",
        "\n",
        "5. Click on the **View Project** button for the project you want to submit.\n",
        "\n",
        "   <img src='https://student-datasets-bucket.s3.ap-south-1.amazonaws.com/images/project-share-images/7_view_project.png' width=800>\n",
        "\n",
        "6. Click on the **Submit Project Here** button.\n",
        "\n",
        "   <img src='https://student-datasets-bucket.s3.ap-south-1.amazonaws.com/images/project-share-images/8_submit_project.png' width=800>\n",
        "\n",
        "7. Paste the link to the project file named as **YYYY-MM-DD_StudentName_Project11** in the URL box and then click on the **Submit** button.\n",
        "\n",
        "   <img src='https://student-datasets-bucket.s3.ap-south-1.amazonaws.com/images/project-share-images/9_enter_project_url.png' width=800> "
      ]
    },
    {
      "cell_type": "markdown",
      "metadata": {
        "id": "HSz7jRSlGxIO"
      },
      "source": [
        "---"
      ]
    }
  ]
}