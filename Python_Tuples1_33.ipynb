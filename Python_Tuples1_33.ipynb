{
  "nbformat": 4,
  "nbformat_minor": 0,
  "metadata": {
    "colab": {
      "provenance": [],
      "collapsed_sections": [],
      "include_colab_link": true
    },
    "kernelspec": {
      "name": "python3",
      "display_name": "Python 3"
    }
  },
  "cells": [
    {
      "cell_type": "markdown",
      "metadata": {
        "id": "view-in-github",
        "colab_type": "text"
      },
      "source": [
        "<a href=\"https://colab.research.google.com/github/Pragna235/Python_Projects/blob/main/Python_Tuples1_33.ipynb\" target=\"_parent\"><img src=\"https://colab.research.google.com/assets/colab-badge.svg\" alt=\"Open In Colab\"/></a>"
      ]
    },
    {
      "cell_type": "markdown",
      "metadata": {
        "id": "YZnBY81YDCCr"
      },
      "source": [
        "### Instructions"
      ]
    },
    {
      "cell_type": "markdown",
      "metadata": {
        "id": "bEyBzxYRhrLG"
      },
      "source": [
        "#### Goal of the Project\n",
        "\n",
        "This project is designed for you to practice and solve the activities that are based on the concepts covered in the following lessons:\n",
        "\n",
        "  1.  While Loop, Data-Type Conversion and Conditional Statements\n",
        "  2.  Python Lists\n",
        "  3.  List Comprehension\n",
        "  5.  Python Tuples I"
      ]
    },
    {
      "cell_type": "markdown",
      "metadata": {
        "id": "DPOFIO3EHncO"
      },
      "source": [
        "---"
      ]
    },
    {
      "cell_type": "markdown",
      "metadata": {
        "id": "krym8CeMhscq"
      },
      "source": [
        "#### Getting Started:\n",
        "\n",
        "1. Click on this link to open the Colab file for this project.\n",
        "\n",
        "    https://colab.research.google.com/drive/1VgRrlMHbqFSAB6gp5mBJ0SQbQ3-qqlIx\n",
        "\n",
        "2. Create a duplicate copy of the Colab file as described below.\n",
        "\n",
        "  - Click on the **File menu**. A new drop-down list will appear.\n",
        "\n",
        "   <img src='https://student-datasets-bucket.s3.ap-south-1.amazonaws.com/images/lesson-0/0_file_menu.png' width=500>\n",
        "\n",
        "  - Click on the **Save a copy in Drive** option. A duplicate copy will get created. It will open up in the new tab on your web browser.\n",
        "\n",
        "  <img src='https://student-datasets-bucket.s3.ap-south-1.amazonaws.com/images/lesson-0/1_create_colab_duplicate_copy.png' width=500>\n",
        "\n",
        "3. After creating the duplicate copy of the notebook, please rename it in the **YYYY-MM-DD_StudentName_Project33** format.\n",
        "\n",
        "4. Now, write your code in the prescribed code cells.\n"
      ]
    },
    {
      "cell_type": "markdown",
      "metadata": {
        "id": "BBqkpH4_Doqe"
      },
      "source": [
        "---"
      ]
    },
    {
      "cell_type": "markdown",
      "metadata": {
        "id": "q4fH06mIjuK3"
      },
      "source": [
        "#### Activity 1: Filter out Strings\n",
        "\n",
        "Given a list which contains both integer and string values, create a function that returns a new list without the strings using List comprehension method.\n",
        "\n",
        "**Constraint**:\n",
        "\n",
        "- Consider only non-negative integers\n",
        "\n",
        "**Examples**\n",
        "```\n",
        "[1, 2, \"a\", \"b\"] ➞ [1, 2]\n",
        "\n",
        "[1, \"a\", \"b\", 0, 15] ➞ [1, 0, 15]\n",
        "\n",
        "[1, 2, \"aasf\", \"1\", \"123\", 123] ➞ [1, 2, 123]\n",
        "```\n",
        "**Hint:** Use `type()` function to check the data type of all the elements of the list."
      ]
    },
    {
      "cell_type": "code",
      "metadata": {
        "id": "4EAoTskqg041",
        "colab": {
          "base_uri": "https://localhost:8080/"
        },
        "outputId": "9468cf0c-ff59-4c55-d119-c3e37eee2466"
      },
      "source": [
        "# Write your code here\n",
        "# Define a function which will take list as a parameter\n",
        "def filter_list(n):\n",
        "  # This function returns only those items of list whose type is int. Specify this using list comprehension.\n",
        "  filter=[i for i in n if type(i)==int]\n",
        "  print(filter)\n",
        "  #Call the function\n",
        "filter_list([1,'a','b',0,15])"
      ],
      "execution_count": null,
      "outputs": [
        {
          "output_type": "stream",
          "text": [
            "[1, 0, 15]\n"
          ],
          "name": "stdout"
        }
      ]
    },
    {
      "cell_type": "markdown",
      "metadata": {
        "id": "xJlPs9X9oeRw"
      },
      "source": [
        "---"
      ]
    },
    {
      "cell_type": "markdown",
      "metadata": {
        "id": "qA-b1CdeofKc"
      },
      "source": [
        "#### Activity 2: Transform into a List with No Duplicates\n",
        "\n",
        "Given a list of elements, write a program to print a new sorted list with no duplicate values.\n",
        "\n",
        "**Examples:**\n",
        "```\n",
        "[3, 3, 1, 5, 5] ➞ [1, 3, 5]\n",
        "\n",
        "[5, 7, 8, 15, 10, 9] ➞ [5, 7, 8, 9, 10, 15]\n",
        "\n",
        "['a', 'c', 'b', 'c', 'd'] ➞ [a, b, c, d]\n",
        "\n",
        "[3, 3, 3, 2, 1] ➞ [1, 2, 3]\n",
        "```\n",
        "**Hint:** Use `append()` and `sort()` functions. The `sort()` function is used to sort the elements of a list. The syntax of `sort()` function is:\n",
        "\n",
        "`list_name.sort()`\n",
        "\n",
        " where, `list_name` is the list whose elements are to be sorted."
      ]
    },
    {
      "cell_type": "code",
      "metadata": {
        "id": "AtvPTG3kpBoS",
        "colab": {
          "base_uri": "https://localhost:8080/"
        },
        "outputId": "986495af-3e02-44be-917c-496aa44d3ea3"
      },
      "source": [
        "# Write your code here\n",
        "# Create a function which takes a list as parameter.\n",
        "def function(n):\n",
        "\t# Create an empty list.\n",
        "  empty=[]\n",
        "  \n",
        "\t# Using 'for' loop and 'if' statement, append every item to the empty list if it does not exist already in the empty list\n",
        "  for i in n:\n",
        "    if i not in empty:\n",
        "      empty.append(i)\n",
        "\n",
        "\t# After obtaining the list having no duplicate items, sort the list and return the list\n",
        "  empty.sort()\n",
        "  return empty\n",
        "\n",
        "  \n",
        "\n",
        "# call the function\n",
        "function([2,2,2,3])"
      ],
      "execution_count": null,
      "outputs": [
        {
          "output_type": "execute_result",
          "data": {
            "text/plain": [
              "[2, 3]"
            ]
          },
          "metadata": {
            "tags": []
          },
          "execution_count": 34
        }
      ]
    },
    {
      "cell_type": "markdown",
      "metadata": {
        "id": "KOVBiUSMzut1"
      },
      "source": [
        "---"
      ]
    },
    {
      "cell_type": "markdown",
      "metadata": {
        "id": "b4aeCDi0pkJz"
      },
      "source": [
        "#### Activity 3: Reverse the elements of a Tuple\n",
        "\n",
        "Given `n` elements of different types in a tuple, write a program to print the elements of that tuple in a reverse order using negative indexing.\n",
        "\n",
        "**Example**:\n",
        "\n",
        "```\n",
        "Original tuple:  (1, 3, 5.78, 7.56, 'Python')\n",
        "Tuple is reverse order : \n",
        "Python\n",
        "7.56\n",
        "5.78\n",
        "3\n",
        "1\n",
        "``` "
      ]
    },
    {
      "cell_type": "code",
      "metadata": {
        "id": "d5ufKLNYzsIl",
        "colab": {
          "base_uri": "https://localhost:8080/"
        },
        "outputId": "b10812ed-66b2-469b-beb8-9459fbb69425"
      },
      "source": [
        "# Write your code here\n",
        "def reverse(p):\n",
        "  for i in (p[::-1]):\n",
        "    print(i)\n",
        "reverse((1,3,5.78,7.56,'Python'))"
      ],
      "execution_count": null,
      "outputs": [
        {
          "output_type": "stream",
          "text": [
            "Python\n",
            "7.56\n",
            "5.78\n",
            "3\n",
            "1\n"
          ],
          "name": "stdout"
        }
      ]
    },
    {
      "cell_type": "markdown",
      "metadata": {
        "id": "BNlGj8NNJ1Y0"
      },
      "source": [
        "### Submitting the Project:\n",
        "\n",
        "1. After finishing the project, click on the **Share** button on the top right corner of the notebook. A new dialog box will appear.\n",
        "\n",
        "  <img src='https://student-datasets-bucket.s3.ap-south-1.amazonaws.com/images/project-share-images/2_share_button.png' width=500>\n",
        "\n",
        "2. In the dialog box, make sure that '**Anyone on the Internet with this link can view**' option is selected and then click on the **Copy link** button.\n",
        "\n",
        "   <img src='https://student-datasets-bucket.s3.ap-south-1.amazonaws.com/images/project-share-images/3_copy_link.png' width=500>\n",
        "\n",
        "3. The link of the duplicate copy (named as **YYYY-MM-DD_StudentName_Project33**) of the notebook will get copied \n",
        "\n",
        "   <img src='https://student-datasets-bucket.s3.ap-south-1.amazonaws.com/images/project-share-images/4_copy_link_confirmation.png' width=500>\n",
        "\n",
        "4. Go to your dashboard and click on the **My Projects** option.\n",
        "   \n",
        "   <img src='https://student-datasets-bucket.s3.ap-south-1.amazonaws.com/images/project-share-images/5_student_dashboard.png' width=800>\n",
        "\n",
        "  <img src='https://student-datasets-bucket.s3.ap-south-1.amazonaws.com/images/project-share-images/6_my_projects.png' width=800>\n",
        "\n",
        "5. Click on the **View Project** button for the project you want to submit.\n",
        "\n",
        "   <img src='https://student-datasets-bucket.s3.ap-south-1.amazonaws.com/images/project-share-images/7_view_project.png' width=800>\n",
        "\n",
        "6. Click on the **Submit Project Here** button.\n",
        "\n",
        "   <img src='https://student-datasets-bucket.s3.ap-south-1.amazonaws.com/images/project-share-images/8_submit_project.png' width=800>\n",
        "\n",
        "7. Paste the link to the project file named as **YYYY-MM-DD_StudentName_Project33** in the URL box and then click on the **Submit** button.\n",
        "\n",
        "   <img src='https://student-datasets-bucket.s3.ap-south-1.amazonaws.com/images/project-share-images/9_enter_project_url.png' width=800> "
      ]
    },
    {
      "cell_type": "markdown",
      "metadata": {
        "id": "HSz7jRSlGxIO"
      },
      "source": [
        "---"
      ]
    }
  ]
}