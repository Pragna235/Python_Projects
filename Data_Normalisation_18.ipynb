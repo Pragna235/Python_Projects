{
  "nbformat": 4,
  "nbformat_minor": 0,
  "metadata": {
    "colab": {
      "provenance": [],
      "collapsed_sections": [],
      "include_colab_link": true
    },
    "kernelspec": {
      "name": "python3",
      "display_name": "Python 3"
    }
  },
  "cells": [
    {
      "cell_type": "markdown",
      "metadata": {
        "id": "view-in-github",
        "colab_type": "text"
      },
      "source": [
        "<a href=\"https://colab.research.google.com/github/Pragna235/Python_Projects/blob/main/Data_Normalisation_18.ipynb\" target=\"_parent\"><img src=\"https://colab.research.google.com/assets/colab-badge.svg\" alt=\"Open In Colab\"/></a>"
      ]
    },
    {
      "cell_type": "markdown",
      "metadata": {
        "id": "YZnBY81YDCCr"
      },
      "source": [
        "### Instructions"
      ]
    },
    {
      "cell_type": "markdown",
      "metadata": {
        "id": "fIKnY8occu37"
      },
      "source": [
        "#### Goal of the Project\n",
        "\n",
        "This project is designed for you to practice and solve the activities that are based on the concepts covered in the following lessons:\n",
        "\n",
        "1. While Loop, Data-Type Conversion and Conditional Statements.\n",
        "\n",
        "2. Python Lists (`for` Loop).\n"
      ]
    },
    {
      "cell_type": "markdown",
      "metadata": {
        "id": "BBqkpH4_Doqe"
      },
      "source": [
        "---"
      ]
    },
    {
      "cell_type": "markdown",
      "metadata": {
        "id": "3-cfg9A3JVmV"
      },
      "source": [
        "#### Getting Started:\n",
        "\n",
        "1. Click on this link to open the Colab file for this project.\n",
        "\n",
        "    https://colab.research.google.com/drive/1n8xEPUsQUXNyXkrYn7WJKa9qFagtUWTW?usp=sharing \n",
        "\n",
        "2. Create a duplicate copy of the Colab file as described below.\n",
        "\n",
        "  - Click on the **File menu**. A new drop-down list will appear.\n",
        "\n",
        "   <img src='https://student-datasets-bucket.s3.ap-south-1.amazonaws.com/images/lesson-0/0_file_menu.png' width=500>\n",
        "\n",
        "  - Click on the **Save a copy in Drive** option. A duplicate copy will get created. It will open up in the new tab on your web browser.\n",
        "\n",
        "  <img src='https://student-datasets-bucket.s3.ap-south-1.amazonaws.com/images/lesson-0/1_create_colab_duplicate_copy.png' width=500>\n",
        "\n",
        "3. After creating the duplicate copy of the notebook, please rename it in the **YYYY-MM-DD_StudentName_Project18** format.\n",
        "\n",
        "4. Now, write your code in the prescribed code cells.\n"
      ]
    },
    {
      "cell_type": "markdown",
      "metadata": {
        "id": "LXZYM1_eJjs3"
      },
      "source": [
        "---"
      ]
    },
    {
      "cell_type": "markdown",
      "metadata": {
        "id": "H0P9F3DUf8x2"
      },
      "source": [
        "### Activities\n",
        "\n",
        "\n",
        "  "
      ]
    },
    {
      "cell_type": "markdown",
      "metadata": {
        "id": "BVT9G_baB1aq"
      },
      "source": [
        "#### Activity 1: Last Digit Ultimate\n",
        "\n",
        "Your job is to create a function, that takes 3 numbers: `num1, num2, num3` and returns `True` if:\n",
        "\n",
        " (last digit of `num1`) * (the last digit of `num2`) = the last digit of `num3`. \n",
        "\n",
        "**Examples**\n",
        "```\n",
        "1. last_dig(25, 21, 125) ➞ True\n",
        "# The last digit of 25 is 5, the last digit of 21 is 1, \n",
        "# last digit of 125 is 5, and the last digit of 5*1 = 5, \n",
        "# which is equal to the last digit of 125 i.e. 5\n",
        "\n",
        "2. last_dig(55, 226, 5190) ➞ True\n",
        "# The last digit of 55 is 5, the last digit of 226 is 6,\n",
        "# last digit of 5190 is 0, and the last digit of 5*6 = 30 i.e. 0, \n",
        "# which is equal to the last digit of 5190 i.e. 0\n",
        "\n",
        "3. last_dig(12, 215, 2142) ➞ False\n",
        "# The last digit of 12 is 2, the last digit of 215 is 5, \n",
        "# last digit of 2142 is 2, and the last digit of 2*5 = 10 is 0, \n",
        "# which is not equal to the last digit of 2142 i.e. 2\n",
        "```\n"
      ]
    },
    {
      "cell_type": "code",
      "metadata": {
        "id": "0pIGxKG9B3mb",
        "colab": {
          "base_uri": "https://localhost:8080/"
        },
        "outputId": "b5ede363-9d07-433d-fabf-3a8fccd503ee"
      },
      "source": [
        "# Write your solution here:\n",
        "# Create a function and pass num1,num2,num3 as parameters to it.\n",
        "def last_dig(num1,num2,num3):\n",
        "# Create three variables and store the last digits of num1,num2,num3.\n",
        "# Find the last digit by dividing the numbers by 10.\n",
        "  last_digit_num1=(num1%10)\n",
        "  last_digit_num2=(num2%10)\n",
        "  last_digit_num3=(num3%10)\n",
        "# Use if-else conditional statements to get the output.\n",
        "  if ((last_digit_num1)*(last_digit_num2)) == (last_digit_num3):\n",
        "    return True\n",
        "  else:\n",
        "    return False\n",
        "# Call the function and pass the input parameters.\n",
        "last_dig(12,215,2142)"
      ],
      "execution_count": null,
      "outputs": [
        {
          "output_type": "execute_result",
          "data": {
            "text/plain": [
              "False"
            ]
          },
          "metadata": {
            "tags": []
          },
          "execution_count": 22
        }
      ]
    },
    {
      "cell_type": "markdown",
      "metadata": {
        "id": "JuwBMIeFB9xY"
      },
      "source": [
        "---"
      ]
    },
    {
      "cell_type": "markdown",
      "metadata": {
        "id": "qA-b1CdeofKc"
      },
      "source": [
        "#### Activity 2: Pentagonal Number\n",
        "\n",
        "Given a number $num$ as a positive integer, calculate how many dots exist in a pentagonal shape around the centre dot on the $Nth$ iteration.\n",
        "\n",
        "In the image below you can see in the first iteration there is only a single dot. On the second, there are 6 dots. On the third, there are 16 dots, and on the fourth there are 31 dots.\n",
        "\n",
        "<img src='https://student-datasets-bucket.s3.ap-south-1.amazonaws.com/images/pengatonal-number.png' width=500>\n",
        "\n",
        "**Constraint**\n",
        "\n",
        "$num > 0$\n",
        "\n",
        "**Sample Input 1**\n",
        "```\n",
        "2\n",
        "```\n",
        "\n",
        "**Sample Output 1**\n",
        "```\n",
        "6\n",
        "```\n",
        "\n",
        "**Sample Input 2**\n",
        "```\n",
        "3\n",
        "```\n",
        "\n",
        "**Sample Output 2**\n",
        "```\n",
        "16\n",
        "```\n"
      ]
    },
    {
      "cell_type": "code",
      "metadata": {
        "id": "AtvPTG3kpBoS",
        "colab": {
          "base_uri": "https://localhost:8080/"
        },
        "outputId": "b0bb068f-b584-45e5-abce-87c54f78a258"
      },
      "source": [
        "# Write your solution here.\n",
        "# Import numpy.\n",
        "import numpy as np\n",
        "# Create a variable to give input and convert it into integer.\n",
        "num=int(input(\"Enter some number = \"))\n",
        "# Create a list comprehension for the values needed to be multiplied by 5.\n",
        "num_of_dots=[i for i in range(1,num) ]\n",
        "# Convert the list comprehension to a numpy array.\n",
        "num_of_dots_np=np.array(num_of_dots)\n",
        "\n",
        "num_of_dots_val=(5*(num_of_dots_np))\n",
        "# Add all the values of the array using sum function.\n",
        "num_of_dots_values=num_of_dots_val.sum()\n",
        "\n",
        "total_dots=(1+num_of_dots_values)\n",
        "# Print the number of dots as output.\n",
        "print(\"Total number of dots = \",total_dots)\n",
        "    \n",
        "\n",
        "\n",
        "    \n",
        "\n"
      ],
      "execution_count": null,
      "outputs": [
        {
          "output_type": "stream",
          "text": [
            "Enter some number = 9\n",
            "Total number of dots =  181\n"
          ],
          "name": "stdout"
        }
      ]
    },
    {
      "cell_type": "markdown",
      "metadata": {
        "id": "fgW8LAyjEaEH"
      },
      "source": [
        "**Q**: How many dots are there in the 9th iteration?\n",
        "\n",
        "**A**: There are 181 dots in 9th iteration.\n"
      ]
    },
    {
      "cell_type": "markdown",
      "metadata": {
        "id": "KOVBiUSMzut1"
      },
      "source": [
        "---"
      ]
    },
    {
      "cell_type": "markdown",
      "metadata": {
        "id": "83QUR4LMJZpy"
      },
      "source": [
        "### Submitting the Project:\n",
        "\n",
        "1. After finishing the project, click on the **Share** button on the top right corner of the notebook. A new dialog box will appear.\n",
        "\n",
        "  <img src='https://student-datasets-bucket.s3.ap-south-1.amazonaws.com/images/project-share-images/2_share_button.png' width=500>\n",
        "\n",
        "2. In the dialog box, make sure that '**Anyone on the Internet with this link can view**' option is selected and then click on the **Copy link** button.\n",
        "\n",
        "   <img src='https://student-datasets-bucket.s3.ap-south-1.amazonaws.com/images/project-share-images/3_copy_link.png' width=500>\n",
        "\n",
        "3. The link of the duplicate copy (named as **YYYY-MM-DD_StudentName_Project18**) of the notebook will get copied \n",
        "\n",
        "   <img src='https://student-datasets-bucket.s3.ap-south-1.amazonaws.com/images/project-share-images/4_copy_link_confirmation.png' width=500>\n",
        "\n",
        "4. Go to your dashboard and click on the **My Projects** option.\n",
        "   \n",
        "   <img src='https://student-datasets-bucket.s3.ap-south-1.amazonaws.com/images/project-share-images/5_student_dashboard.png' width=800>\n",
        "\n",
        "  <img src='https://student-datasets-bucket.s3.ap-south-1.amazonaws.com/images/project-share-images/6_my_projects.png' width=800>\n",
        "\n",
        "5. Click on the **View Project** button for the project you want to submit.\n",
        "\n",
        "   <img src='https://student-datasets-bucket.s3.ap-south-1.amazonaws.com/images/project-share-images/7_view_project.png' width=800>\n",
        "\n",
        "6. Click on the **Submit Project Here** button.\n",
        "\n",
        "   <img src='https://student-datasets-bucket.s3.ap-south-1.amazonaws.com/images/project-share-images/8_submit_project.png' width=800>\n",
        "\n",
        "7. Paste the link to the project file named as **YYYY-MM-DD_StudentName_Project18** in the URL box and then click on the **Submit** button.\n",
        "\n",
        "   <img src='https://student-datasets-bucket.s3.ap-south-1.amazonaws.com/images/project-share-images/9_enter_project_url.png' width=800> "
      ]
    },
    {
      "cell_type": "markdown",
      "metadata": {
        "id": "kkUwgsVzKMMf"
      },
      "source": [
        "---"
      ]
    }
  ]
}