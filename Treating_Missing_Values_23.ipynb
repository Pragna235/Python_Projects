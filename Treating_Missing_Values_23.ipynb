{
  "nbformat": 4,
  "nbformat_minor": 0,
  "metadata": {
    "colab": {
      "provenance": [],
      "collapsed_sections": [],
      "include_colab_link": true
    },
    "kernelspec": {
      "name": "python3",
      "display_name": "Python 3"
    }
  },
  "cells": [
    {
      "cell_type": "markdown",
      "metadata": {
        "id": "view-in-github",
        "colab_type": "text"
      },
      "source": [
        "<a href=\"https://colab.research.google.com/github/Pragna235/Python_Projects/blob/main/Treating_Missing_Values_23.ipynb\" target=\"_parent\"><img src=\"https://colab.research.google.com/assets/colab-badge.svg\" alt=\"Open In Colab\"/></a>"
      ]
    },
    {
      "cell_type": "markdown",
      "metadata": {
        "id": "YZnBY81YDCCr"
      },
      "source": [
        "### Instructions"
      ]
    },
    {
      "cell_type": "markdown",
      "metadata": {
        "id": "bEyBzxYRhrLG"
      },
      "source": [
        "#### Goal of the Project\n",
        "\n",
        "This project is designed for you to practice and solve the activities that are based on the concepts covered in the following lessons:\n",
        "\n",
        " 1.  While Loop, Data-Type Conversion and Conditional Statements\n",
        " 2.  List Comprehension"
      ]
    },
    {
      "cell_type": "markdown",
      "metadata": {
        "id": "DPOFIO3EHncO"
      },
      "source": [
        "---"
      ]
    },
    {
      "cell_type": "markdown",
      "metadata": {
        "id": "bu9uYNNMDzC9"
      },
      "source": [
        "#### Getting Started:\n",
        "\n",
        "1. Click on this link to open the Colab file for this project.\n",
        "\n",
        "     https://colab.research.google.com/drive/1hqhze_cO7j103KlcuP-dT9koTH0XQZ-m?usp=sharing\n",
        "     \n",
        "2. Create a duplicate copy of the Colab file as described below.\n",
        "\n",
        "  - Click on the **File menu**. A new drop-down list will appear.\n",
        "\n",
        "   <img src='https://student-datasets-bucket.s3.ap-south-1.amazonaws.com/images/lesson-0/0_file_menu.png' width=500>\n",
        "\n",
        "  - Click on the **Save a copy in Drive** option. A duplicate copy will get created. It will open up in the new tab on your web browser.\n",
        "\n",
        "  <img src='https://student-datasets-bucket.s3.ap-south-1.amazonaws.com/images/lesson-0/1_create_colab_duplicate_copy.png' width=500>\n",
        "\n",
        "3. After creating the duplicate copy of the notebook, please rename it in the **YYYY-MM-DD_StudentName_Project23** format.\n",
        "\n",
        "4. Now, write your code in the prescribed code cells.\n"
      ]
    },
    {
      "cell_type": "markdown",
      "metadata": {
        "id": "8f6-uc0r9Q4h"
      },
      "source": [
        "### Activities"
      ]
    },
    {
      "cell_type": "markdown",
      "metadata": {
        "id": "q4fH06mIjuK3"
      },
      "source": [
        "#### Activity 1: Next Prime\n",
        "\n",
        "Given an integer `num`, create a function that returns the next prime using List Comprehension method. If the number is prime, return the number itself.\n",
        "\n",
        "**Examples** :\n",
        "```\n",
        "next_prime(12) ➞ 13\n",
        "\n",
        "next_prime(24) ➞ 29\n",
        "\n",
        "next_prime(11) ➞ 11\n",
        "\n",
        "```\n",
        "\n",
        "\n",
        "**Hints**: \n",
        "\n",
        "- First check whether the number `num` is prime or not. If the number is prime, return the number itself.\n",
        "\n",
        "- Use `while` loop. If the number is not a prime number increment the value of `num` passed in the function by `1` until we get the next prime number. \n",
        "\n",
        "- As soon as we get a prime number, the `while` loop stops and returns the value stored in `num`. "
      ]
    },
    {
      "cell_type": "code",
      "metadata": {
        "id": "4EAoTskqg041",
        "colab": {
          "base_uri": "https://localhost:8080/"
        },
        "outputId": "ef7df74a-2076-440b-f19c-b3b445caff8e"
      },
      "source": [
        "# Write your code here\n",
        "def next_prime(num):\n",
        "  for i in range(num+1,num+50):\n",
        "    if num>1:\n",
        "      for j in range(2,i):\n",
        "        if (i%j)==0:\n",
        "          break\n",
        "      else:\n",
        "        return i\n",
        "next_prime(14)\n",
        "\n",
        "\t# create while loop and check whether the number is prime or not, \n",
        "\t# if the number is not a prime number, increment the value passed in the function until we get the next prime number. \n",
        "\t# Specify this condition of while loop using List Comprehension\n",
        "\t"
      ],
      "execution_count": null,
      "outputs": [
        {
          "output_type": "execute_result",
          "data": {
            "text/plain": [
              "17"
            ]
          },
          "metadata": {
            "tags": []
          },
          "execution_count": 29
        }
      ]
    },
    {
      "cell_type": "code",
      "metadata": {
        "colab": {
          "base_uri": "https://localhost:8080/"
        },
        "id": "YjSTBa8qX3dr",
        "outputId": "3987fdc9-b5e1-409a-ff3d-8d1849482a99"
      },
      "source": [
        "def next_prime(num):\n",
        "  while [i for i in range(2,num) if num%i==0]:\n",
        "    num=num+1\n",
        "  return num\n",
        "next_prime(8)"
      ],
      "execution_count": null,
      "outputs": [
        {
          "output_type": "execute_result",
          "data": {
            "text/plain": [
              "11"
            ]
          },
          "metadata": {
            "tags": []
          },
          "execution_count": 20
        }
      ]
    },
    {
      "cell_type": "markdown",
      "metadata": {
        "id": "H4JT7cLU21lW"
      },
      "source": [
        "---"
      ]
    },
    {
      "cell_type": "markdown",
      "metadata": {
        "id": "b4aeCDi0pkJz"
      },
      "source": [
        "#### Activity 2: Print Odd Numbers Within A Given Range\n",
        "\n",
        "The program takes the lower and upper limit and prints all odd numbers within that range.\n",
        "\n",
        "**Example:**\n",
        "```\n",
        "Enter the lower limit for the range:11\n",
        "Enter the upper limit for the range:16\n",
        "11\n",
        "13\n",
        "15\n",
        "```\n",
        "\n"
      ]
    },
    {
      "cell_type": "code",
      "metadata": {
        "id": "d5ufKLNYzsIl",
        "colab": {
          "base_uri": "https://localhost:8080/"
        },
        "outputId": "9f2486d1-863e-42db-853b-854f5260e8bf"
      },
      "source": [
        "# Write your code here\n",
        "lower_limit=int(input(\"Enter the lower limit for the range = \"))\n",
        "upper_limit=int(input(\"Enter the upper limit for the range = \"))\n",
        "for i in range(lower_limit,upper_limit):\n",
        "  if i%2!=0:\n",
        "    print(i)"
      ],
      "execution_count": null,
      "outputs": [
        {
          "output_type": "stream",
          "text": [
            "Enter the lower limit for the range = 23\n",
            "Enter the upper limit for the range = 36\n",
            "23\n",
            "25\n",
            "27\n",
            "29\n",
            "31\n",
            "33\n",
            "35\n"
          ],
          "name": "stdout"
        }
      ]
    },
    {
      "cell_type": "markdown",
      "metadata": {
        "id": "HSz7jRSlGxIO"
      },
      "source": [
        "---"
      ]
    },
    {
      "cell_type": "markdown",
      "metadata": {
        "id": "1rBGksduD8Fe"
      },
      "source": [
        "### How To Submit The Project\n",
        "\n",
        "Follow the steps described below to submit the project.\n",
        "1. After finishing the project, click on the **Share** button on the top right corner of the notebook. A new dialog box will appear.\n",
        "  <img src='https://student-datasets-bucket.s3.ap-south-1.amazonaws.com/images/project-share-images/2_share_button.png' width=500>\n",
        "2. In the dialog box, click on the **Copy link** button. Make sure that '**Anyone on the Internet with this link can view**' option is selected and then click on the **Copy link** button.\n",
        "\n",
        "   <img src='https://student-datasets-bucket.s3.ap-south-1.amazonaws.com/images/project-share-images/3_copy_link.png' width=500>\n",
        "3. The link of the duplicate copy (named as **YYYY-MM-DD_StudentName_Project23**) of the notebook will get copied \n",
        "   <img src='https://student-datasets-bucket.s3.ap-south-1.amazonaws.com/images/project-share-images/4_copy_link_confirmation.png' width=500>\n",
        "4. Go to your dashboard and click on the **My Projects** option.\n",
        "   <img src='https://student-datasets-bucket.s3.ap-south-1.amazonaws.com/images/project-share-images/5_student_dashboard.png' width=800>\n",
        "   <img src='https://student-datasets-bucket.s3.ap-south-1.amazonaws.com/images/project-share-images/6_my_projects.png' width=800>\n",
        "5. Click on the **View Project** button for the project you want to submit.\n",
        "   <img src='https://student-datasets-bucket.s3.ap-south-1.amazonaws.com/images/project-share-images/7_view_project.png' width=800>\n",
        "6. Click on the **Submit Project Here** button.\n",
        "   <img src='https://student-datasets-bucket.s3.ap-south-1.amazonaws.com/images/project-share-images/8_submit_project.png' width=800>\n",
        "7. Past the link to the project named as **YYYY-MM-DD_StudentName_Project23** in the URL box and then click on the **Submit** button.\n",
        "   <img src='https://student-datasets-bucket.s3.ap-south-1.amazonaws.com/images/project-share-images/9_enter_project_url.png' width=800>\n"
      ]
    },
    {
      "cell_type": "markdown",
      "metadata": {
        "id": "oc4S9JToIZhg"
      },
      "source": [
        "---"
      ]
    }
  ]
}