{
  "nbformat": 4,
  "nbformat_minor": 0,
  "metadata": {
    "colab": {
      "provenance": [],
      "collapsed_sections": [],
      "include_colab_link": true
    },
    "kernelspec": {
      "name": "python3",
      "display_name": "Python 3"
    }
  },
  "cells": [
    {
      "cell_type": "markdown",
      "metadata": {
        "id": "view-in-github",
        "colab_type": "text"
      },
      "source": [
        "<a href=\"https://colab.research.google.com/github/Pragna235/Python_Projects/blob/main/String_Operations2_36.ipynb\" target=\"_parent\"><img src=\"https://colab.research.google.com/assets/colab-badge.svg\" alt=\"Open In Colab\"/></a>"
      ]
    },
    {
      "cell_type": "markdown",
      "metadata": {
        "id": "YZnBY81YDCCr"
      },
      "source": [
        "### Instructions"
      ]
    },
    {
      "cell_type": "markdown",
      "metadata": {
        "id": "fIKnY8occu37"
      },
      "source": [
        "#### Goal of the Project\n",
        "\n",
        "This project is designed for you to practice and solve the activities that are based on the concepts covered in the following lessons:\n",
        "\n",
        "1. Python Dictionary\n",
        "\n",
        "2. Python Lists\n",
        "\n",
        "3. String Operations\n"
      ]
    },
    {
      "cell_type": "markdown",
      "metadata": {
        "id": "yPZGW0_xDUOy"
      },
      "source": [
        "---"
      ]
    },
    {
      "cell_type": "markdown",
      "metadata": {
        "id": "4_lFPdXuDVDA"
      },
      "source": [
        "#### Getting Started:\n",
        "\n",
        "1. Click on this link to open the Colab file for this project.\n",
        "\n",
        "    https://colab.research.google.com/drive/171k1-ImrBec7ObttnjQN3j0v7fBp0uP1\n",
        "\n",
        "2. Create a duplicate copy of the Colab file as described below.\n",
        "\n",
        "  - Click on the **File menu**. A new drop-down list will appear.\n",
        "\n",
        "   <img src='https://student-datasets-bucket.s3.ap-south-1.amazonaws.com/images/lesson-0/0_file_menu.png' width=500>\n",
        "\n",
        "  - Click on the **Save a copy in Drive** option. A duplicate copy will get created. It will open up in the new tab on your web browser.\n",
        "\n",
        "  <img src='https://student-datasets-bucket.s3.ap-south-1.amazonaws.com/images/lesson-0/1_create_colab_duplicate_copy.png' width=500>\n",
        "\n",
        "3. After creating the duplicate copy of the notebook, please rename it in the **YYYY-MM-DD_StudentName_Project36** format.\n",
        "\n",
        "4. Now, write your code in the prescribed code cells.\n"
      ]
    },
    {
      "cell_type": "markdown",
      "metadata": {
        "id": "BBqkpH4_Doqe"
      },
      "source": [
        "---"
      ]
    },
    {
      "cell_type": "markdown",
      "metadata": {
        "id": "H0P9F3DUf8x2"
      },
      "source": [
        "### Activities\n",
        "\n",
        "\n",
        "  "
      ]
    },
    {
      "cell_type": "markdown",
      "metadata": {
        "id": "BVT9G_baB1aq"
      },
      "source": [
        "#### Activity 1: Match Words\n",
        "\n",
        "Write a function to count the number of words whose length is 2 or more and the first and last character are the same from a given list of words.\n",
        "\n",
        "`list_of_words = ['civic', 'organ', 'trust', 'rigid', 'erase', 'right']`\n",
        "\n",
        "**Hint**: Use `for` loop and list indexing.\n"
      ]
    },
    {
      "cell_type": "code",
      "metadata": {
        "id": "0pIGxKG9B3mb",
        "colab": {
          "base_uri": "https://localhost:8080/"
        },
        "outputId": "ed182e43-cbe5-4aea-9284-ec05a59952c9"
      },
      "source": [
        "# Solution\n",
        "# Define a function which accepts a list as input\n",
        "def match_words(list1):\n",
        "  # Initialize a variable 'count' to 0 to count the number of words\n",
        "  count=0\n",
        "  # Use 'for' loop to iterate through each word of the list\n",
        "  # Also check whether first and last character of each word is same using string indexing. If they are same increase the value of 'count' by 1\n",
        "  for i in range(len(list1)):\n",
        "    if list1[i][0]==list1[i][len(list1[i])-1]:\n",
        "      count+=1\n",
        "  return count\n",
        "\n",
        "# Create a list of words\n",
        "list1=['civic','organ','trust','rigid','erase','right']\n",
        "# Call the function and pass this list as parameter\n",
        "match_words(list1)"
      ],
      "execution_count": null,
      "outputs": [
        {
          "output_type": "execute_result",
          "data": {
            "text/plain": [
              "3"
            ]
          },
          "metadata": {
            "tags": []
          },
          "execution_count": 27
        }
      ]
    },
    {
      "cell_type": "markdown",
      "metadata": {
        "id": "IJIZASayCpEW"
      },
      "source": [
        "---"
      ]
    },
    {
      "cell_type": "markdown",
      "metadata": {
        "id": "BlwuesUU2VEE"
      },
      "source": [
        "#### Activity 2: Print Expensive orders\n",
        "\n",
        "Write a function that returns all orders whose price is strictly more than `avg_val`, where `avg_val` will be an average price that will be passed in the function as a second parameter. The function will look like:\n",
        "\n",
        "`expensive_orders(d, avg_val)`, where `d` is the dictionary with the item name as `key` and the price of the item as `value` and the `avg_val` is the average price of orders.\n",
        "\n",
        "**Examples**\n",
        "```\n",
        "1. expensive_orders({ \"a\": 3000,\n",
        "                      \"b\": 200, \n",
        "                      \"c\": 1050 }, 1000) ➞ { \"a\": 3000, \"c\": 1050 }\n",
        " \n",
        "2. expensive_orders({ \"Gucci Fur\": 24600, \n",
        "                      \"Teak Dining Table\": 3200, \n",
        "                      \"Louis Vutton Bag\": 5550, \"Dolce Gabana Heels\": 4000 }, 20000) ➞ { \"Gucci Fur\": 24600 }\n",
        "\n",
        "3. expensive_orders({ \"Deluxe Burger\": 35, \n",
        "                      \"Icecream Shake\": 4, \n",
        "                      \"Fries\": 5 }, 40) ➞ {}\n",
        "```\n",
        "\n",
        "Follow the steps given below to achieve the desired result:\n",
        "\n",
        "- **Step 1**: Create a function, say `expensive_orders()` and pass the dictionary holding the items `d` and the average value `avg_value` as parameters inside this function.\n",
        "\n",
        "- **Step 2**: Define an empty dictionary and store it in variable let's say `result{}`. \n",
        "\n",
        "- **Step 3**: Iterate through all the `key` and `values` in `d{}` using the `items()` function in a `for` loop. Inside this loop, check whether the value of the prices of each item is greater than the `avg_val` using an `if` condition. \n",
        "\n",
        "- **Step 4**: If the value is greater, then add that item and its value in the `result{}` dictionary using `result[key] = value`. "
      ]
    },
    {
      "cell_type": "code",
      "metadata": {
        "id": "zbVRgU5s4Zuj",
        "colab": {
          "base_uri": "https://localhost:8080/"
        },
        "outputId": "e0cc8035-692b-4850-fa14-39d12959b1c0"
      },
      "source": [
        "# Write a function to print the expensive orders\n",
        "\n",
        "def expensive_orders(d,avg_value):\n",
        "  result={}\n",
        "  for key,value in d.items():\n",
        "    if value>avg_value:\n",
        "      result[key]=value\n",
        "  return result\n",
        "expensive_orders({ \"a\": 3000,\n",
        "                    \"b\": 200, \n",
        "                    \"c\": 1050 }, 1000)\n",
        "\n"
      ],
      "execution_count": null,
      "outputs": [
        {
          "output_type": "execute_result",
          "data": {
            "text/plain": [
              "{'a': 3000, 'c': 1050}"
            ]
          },
          "metadata": {
            "tags": []
          },
          "execution_count": 32
        }
      ]
    },
    {
      "cell_type": "markdown",
      "metadata": {
        "id": "2KRIcLMoDmPS"
      },
      "source": [
        "---"
      ]
    },
    {
      "cell_type": "markdown",
      "metadata": {
        "id": "dtVge9fHDnGB"
      },
      "source": [
        "### Submitting the Project:\n",
        "\n",
        "1. After finishing the project, click on the **Share** button on the top right corner of the notebook. A new dialog box will appear.\n",
        "\n",
        "  <img src='https://student-datasets-bucket.s3.ap-south-1.amazonaws.com/images/project-share-images/2_share_button.png' width=500>\n",
        "\n",
        "2. In the dialog box, make sure that '**Anyone on the Internet with this link can view**' option is selected and then click on the **Copy link** button.\n",
        "\n",
        "   <img src='https://student-datasets-bucket.s3.ap-south-1.amazonaws.com/images/project-share-images/3_copy_link.png' width=500>\n",
        "\n",
        "3. The link of the duplicate copy (named as **YYYY-MM-DD_StudentName_Project36**) of the notebook will get copied \n",
        "\n",
        "   <img src='https://student-datasets-bucket.s3.ap-south-1.amazonaws.com/images/project-share-images/4_copy_link_confirmation.png' width=500>\n",
        "\n",
        "4. Go to your dashboard and click on the **My Projects** option.\n",
        "   \n",
        "   <img src='https://student-datasets-bucket.s3.ap-south-1.amazonaws.com/images/project-share-images/5_student_dashboard.png' width=800>\n",
        "\n",
        "  <img src='https://student-datasets-bucket.s3.ap-south-1.amazonaws.com/images/project-share-images/6_my_projects.png' width=800>\n",
        "\n",
        "5. Click on the **View Project** button for the project you want to submit.\n",
        "\n",
        "   <img src='https://student-datasets-bucket.s3.ap-south-1.amazonaws.com/images/project-share-images/7_view_project.png' width=800>\n",
        "\n",
        "6. Click on the **Submit Project Here** button.\n",
        "\n",
        "   <img src='https://student-datasets-bucket.s3.ap-south-1.amazonaws.com/images/project-share-images/8_submit_project.png' width=800>\n",
        "\n",
        "7. Paste the link to the project file named as **YYYY-MM-DD_StudentName_Project36** in the URL box and then click on the **Submit** button.\n",
        "\n",
        "   <img src='https://student-datasets-bucket.s3.ap-south-1.amazonaws.com/images/project-share-images/9_enter_project_url.png' width=800> "
      ]
    },
    {
      "cell_type": "markdown",
      "metadata": {
        "id": "MWkPEALQn-lN"
      },
      "source": [
        "---"
      ]
    }
  ]
}