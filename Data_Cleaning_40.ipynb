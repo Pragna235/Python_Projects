{
  "nbformat": 4,
  "nbformat_minor": 0,
  "metadata": {
    "colab": {
      "provenance": [],
      "collapsed_sections": [],
      "include_colab_link": true
    },
    "kernelspec": {
      "name": "python3",
      "display_name": "Python 3"
    }
  },
  "cells": [
    {
      "cell_type": "markdown",
      "metadata": {
        "id": "view-in-github",
        "colab_type": "text"
      },
      "source": [
        "<a href=\"https://colab.research.google.com/github/Pragna235/Python_Projects/blob/main/Data_Cleaning_40.ipynb\" target=\"_parent\"><img src=\"https://colab.research.google.com/assets/colab-badge.svg\" alt=\"Open In Colab\"/></a>"
      ]
    },
    {
      "cell_type": "markdown",
      "metadata": {
        "id": "YZnBY81YDCCr"
      },
      "source": [
        "### Instructions"
      ]
    },
    {
      "cell_type": "markdown",
      "metadata": {
        "id": "fIKnY8occu37"
      },
      "source": [
        "#### Goal of the Project\n",
        "\n",
        "This project is designed for you to practice and solve the activities that are based on the concepts covered in the following lessons\n",
        "\n",
        "1. String Operations\n",
        "\n",
        "2. The `datetime` module\n"
      ]
    },
    {
      "cell_type": "markdown",
      "metadata": {
        "id": "YUkqcU3lMriL"
      },
      "source": [
        "---"
      ]
    },
    {
      "cell_type": "markdown",
      "metadata": {
        "id": "0CFjPxQAMsJu"
      },
      "source": [
        "#### Getting Started:\n",
        "\n",
        "1. Click on this link to open the Colab file for this project.\n",
        "\n",
        "   https://colab.research.google.com/drive/1zB-cr91a6MafZLSoKgdHMYXX64bKzl-_\n",
        "\n",
        "2. Create a duplicate copy of the Colab file as described below.\n",
        "\n",
        "  - Click on the **File menu**. A new drop-down list will appear.\n",
        "\n",
        "   <img src='https://student-datasets-bucket.s3.ap-south-1.amazonaws.com/images/lesson-0/0_file_menu.png' width=500>\n",
        "\n",
        "  - Click on the **Save a copy in Drive** option. A duplicate copy will get created. It will open up in the new tab on your web browser.\n",
        "\n",
        "  <img src='https://student-datasets-bucket.s3.ap-south-1.amazonaws.com/images/lesson-0/1_create_colab_duplicate_copy.png' width=500>\n",
        "\n",
        "3. After creating the duplicate copy of the notebook, please rename it in the **YYYY-MM-DD_StudentName_Project40** format.\n",
        "\n",
        "4. Now, write your code in the prescribed code cells.\n"
      ]
    },
    {
      "cell_type": "markdown",
      "metadata": {
        "id": "BBqkpH4_Doqe"
      },
      "source": [
        "---"
      ]
    },
    {
      "cell_type": "markdown",
      "metadata": {
        "id": "H0P9F3DUf8x2"
      },
      "source": [
        "### Activities\n",
        "\n",
        "\n",
        "  "
      ]
    },
    {
      "cell_type": "markdown",
      "metadata": {
        "id": "BVT9G_baB1aq"
      },
      "source": [
        "#### Activity 1:  Words Emphasised\n",
        "\n",
        "The challenge is to recreate the functionality of the `title()` method by creating a function called `emphasise()`. \n",
        "\n",
        "The `title()` function capitalises the first letter of every word. Similarly, our  `emphasise()` function should also capitalise the first letter of every word **without** using the built-in `title()` function of Python.\n",
        "\n",
        "**Constraints:**\n",
        "\n",
        "- You won't run into any issues when dealing with numbers.\n",
        "\n",
        "- Please don't use the `title()` method directly\n",
        "\n",
        "**Examples**\n",
        "```\n",
        "1. emphasise(\"hello world\") ➞ \"Hello World\"\n",
        "\n",
        "2. emphasise(\"GOOD MORNING\") ➞ \"Good Morning\"\n",
        "\n",
        "3. emphasise(\"99 red balloons!\") ➞ \"99 Red Balloons!\"\n",
        "```\n",
        "\n",
        "\n"
      ]
    },
    {
      "cell_type": "code",
      "metadata": {
        "id": "0pIGxKG9B3mb",
        "colab": {
          "base_uri": "https://localhost:8080/",
          "height": 35
        },
        "outputId": "65a1d982-188b-4093-89b9-ee34a0542bbe"
      },
      "source": [
        "# Write your solution here to capitalise the first letter of every word \n",
        "def emphasise(string):\n",
        "  string=string.split(' ')\n",
        "  output=[i.capitalize() for i in string]\n",
        "  output_2=' '.join(output)\n",
        "\n",
        "  return output_2\n",
        "\n",
        "\n",
        "emphasise(\"99 red balloons\")"
      ],
      "execution_count": null,
      "outputs": [
        {
          "output_type": "execute_result",
          "data": {
            "application/vnd.google.colaboratory.intrinsic+json": {
              "type": "string"
            },
            "text/plain": [
              "'99 Red Balloons'"
            ]
          },
          "metadata": {
            "tags": []
          },
          "execution_count": 11
        }
      ]
    },
    {
      "cell_type": "markdown",
      "metadata": {
        "id": "IJIZASayCpEW"
      },
      "source": [
        "---"
      ]
    },
    {
      "cell_type": "markdown",
      "metadata": {
        "id": "5kBinzKxn3hd"
      },
      "source": [
        "#### Activity 2: Friday the 13th\n",
        "\n",
        "Given the `month` and `year` as numbers, check whether that month contains a 'Friday 13th'.\n",
        "\n",
        "**Notes**:\n",
        "\n",
        "1. For `month`, January will be given as 1, February as 2, etc ...\n",
        "\n",
        "\n",
        "**Sample Inputs and Outputs:**\n",
        "```\n",
        "a. 3, 2020 ➞ True\n",
        "\n",
        "b. 10, 2017 ➞ True\n",
        "\n",
        "c. 1, 1985 ➞ False\n",
        "```\n",
        "\n",
        "**Hint:** \n",
        "\n",
        "The `weekday()` function of date class in datetime module, is used to return an integer corresponding to the day of the week, where,\n",
        "\n",
        "`0` is returned for `Monday`\n",
        "\n",
        "`1` is returned for `Tuesday`\n",
        "\n",
        "`2` is returned for `Wednesday`\n",
        "\n",
        ".\n",
        "\n",
        ".\n",
        "\n",
        ".\n",
        "\n",
        "`6` is returned for `Sunday`\n",
        "\n",
        "**For example:**\n",
        "\n",
        "`dt(y, m, 13).weekday()` will return `4` indicating that it is the 4th day of the week i.e. `Friday`.\n",
        "\n",
        "**Syntax**: `dt(year, month, date).weekday()`"
      ]
    },
    {
      "cell_type": "code",
      "metadata": {
        "id": "4gjDvOhzn6TL",
        "colab": {
          "base_uri": "https://localhost:8080/"
        },
        "outputId": "5374dc5d-d8ff-4652-f278-6a41936954c2"
      },
      "source": [
        "# Write your solution here\n",
        "\n",
        "# import datetime module\n",
        "import datetime \n",
        "# create a function which accepts two parameters, month and year\n",
        "def friday(month,year):\n",
        "    # create a list containing weekdays from 'Monday' to 'Saturday'\n",
        "  week_days=['Monday','Tuesday','Wednesday','Thursday','Friday','Saturday','Sunday']\n",
        "    # use 'weekday()' function which returns an integer corresponding to the day of the week and store it in a variable 'day'. \n",
        "    # use this 'day' variable as index in the above list and fetch the day name associated with this index  \n",
        "  day=datetime.datetime(year,month,13).weekday()\n",
        "  is_friday=week_days[day]\n",
        "  \n",
        "    # check whether day fetched is Friday or not. If yes return True else False\n",
        "  if is_friday=='Friday':\n",
        "    return True\n",
        "  else:\n",
        "    return False\n",
        "  \n",
        "\n",
        "# call the function\n",
        "print(friday(1,1985))\n",
        "friday(3,2020)\n"
      ],
      "execution_count": null,
      "outputs": [
        {
          "output_type": "stream",
          "text": [
            "False\n"
          ],
          "name": "stdout"
        },
        {
          "output_type": "execute_result",
          "data": {
            "text/plain": [
              "True"
            ]
          },
          "metadata": {
            "tags": []
          },
          "execution_count": 30
        }
      ]
    },
    {
      "cell_type": "markdown",
      "metadata": {
        "id": "vGt-y4xp2UWT"
      },
      "source": [
        "---"
      ]
    },
    {
      "cell_type": "markdown",
      "metadata": {
        "id": "ezG8KOOWM7R2"
      },
      "source": [
        "### Submitting the Project:\n",
        "\n",
        "1. After finishing the project, click on the **Share** button on the top right corner of the notebook. A new dialog box will appear.\n",
        "\n",
        "  <img src='https://student-datasets-bucket.s3.ap-south-1.amazonaws.com/images/project-share-images/2_share_button.png' width=500>\n",
        "\n",
        "2. In the dialog box, make sure that '**Anyone on the Internet with this link can view**' option is selected and then click on the **Copy link** button.\n",
        "\n",
        "   <img src='https://student-datasets-bucket.s3.ap-south-1.amazonaws.com/images/project-share-images/3_copy_link.png' width=500>\n",
        "\n",
        "3. The link of the duplicate copy (named as **YYYY-MM-DD_StudentName_Project40**) of the notebook will get copied \n",
        "\n",
        "   <img src='https://student-datasets-bucket.s3.ap-south-1.amazonaws.com/images/project-share-images/4_copy_link_confirmation.png' width=500>\n",
        "\n",
        "4. Go to your dashboard and click on the **My Projects** option.\n",
        "   \n",
        "   <img src='https://student-datasets-bucket.s3.ap-south-1.amazonaws.com/images/project-share-images/5_student_dashboard.png' width=800>\n",
        "\n",
        "  <img src='https://student-datasets-bucket.s3.ap-south-1.amazonaws.com/images/project-share-images/6_my_projects.png' width=800>\n",
        "\n",
        "5. Click on the **View Project** button for the project you want to submit.\n",
        "\n",
        "   <img src='https://student-datasets-bucket.s3.ap-south-1.amazonaws.com/images/project-share-images/7_view_project.png' width=800>\n",
        "\n",
        "6. Click on the **Submit Project Here** button.\n",
        "\n",
        "   <img src='https://student-datasets-bucket.s3.ap-south-1.amazonaws.com/images/project-share-images/8_submit_project.png' width=800>\n",
        "\n",
        "7. Paste the link to the project file named as **YYYY-MM-DD_StudentName_Project40** in the URL box and then click on the **Submit** button.\n",
        "\n",
        "   <img src='https://student-datasets-bucket.s3.ap-south-1.amazonaws.com/images/project-share-images/9_enter_project_url.png' width=800> "
      ]
    },
    {
      "cell_type": "markdown",
      "metadata": {
        "id": "kwoJJ4frM6GA"
      },
      "source": [
        "---"
      ]
    }
  ]
}