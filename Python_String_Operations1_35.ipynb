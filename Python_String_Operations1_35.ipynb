{
  "nbformat": 4,
  "nbformat_minor": 0,
  "metadata": {
    "colab": {
      "provenance": [],
      "collapsed_sections": [],
      "include_colab_link": true
    },
    "kernelspec": {
      "name": "python3",
      "display_name": "Python 3"
    }
  },
  "cells": [
    {
      "cell_type": "markdown",
      "metadata": {
        "id": "view-in-github",
        "colab_type": "text"
      },
      "source": [
        "<a href=\"https://colab.research.google.com/github/Pragna235/Python_Projects/blob/main/Python_String_Operations1_35.ipynb\" target=\"_parent\"><img src=\"https://colab.research.google.com/assets/colab-badge.svg\" alt=\"Open In Colab\"/></a>"
      ]
    },
    {
      "cell_type": "markdown",
      "metadata": {
        "id": "YZnBY81YDCCr"
      },
      "source": [
        "### Instructions"
      ]
    },
    {
      "cell_type": "markdown",
      "metadata": {
        "id": "bEyBzxYRhrLG"
      },
      "source": [
        "#### Goal of the Project\n",
        "\n",
        "This project is designed for you to practice and solve the activities that are based on the concepts covered in the following lessons:\n",
        "\n",
        "1. Python Lists\n",
        "\n",
        "2. String Operations I\n",
        "\n",
        "\n",
        "\n"
      ]
    },
    {
      "cell_type": "markdown",
      "metadata": {
        "id": "CYhBESEeeRzk"
      },
      "source": [
        "---"
      ]
    },
    {
      "cell_type": "markdown",
      "metadata": {
        "id": "RxBQoxzJeSqq"
      },
      "source": [
        "#### Getting Started:\n",
        "\n",
        "1. Click on this link to open the Colab file for this project.\n",
        "\n",
        "    https://colab.research.google.com/drive/1PjSbFFCf4gfUzvYlo9TmdNrcig-Pl-Oq\n",
        "\n",
        "2. Create a duplicate copy of the Colab file as described below.\n",
        "\n",
        "  - Click on the **File menu**. A new drop-down list will appear.\n",
        "\n",
        "   <img src='https://student-datasets-bucket.s3.ap-south-1.amazonaws.com/images/lesson-0/0_file_menu.png' width=500>\n",
        "\n",
        "  - Click on the **Save a copy in Drive** option. A duplicate copy will get created. It will open up in the new tab on your web browser.\n",
        "\n",
        "  <img src='https://student-datasets-bucket.s3.ap-south-1.amazonaws.com/images/lesson-0/1_create_colab_duplicate_copy.png' width=500>\n",
        "\n",
        "3. After creating the duplicate copy of the notebook, please rename it in the **YYYY-MM-DD_StudentName_Project35** format.\n",
        "\n",
        "4. Now, write your code in the prescribed code cells.\n"
      ]
    },
    {
      "cell_type": "markdown",
      "metadata": {
        "id": "DPOFIO3EHncO"
      },
      "source": [
        "---"
      ]
    },
    {
      "cell_type": "markdown",
      "metadata": {
        "id": "8f6-uc0r9Q4h"
      },
      "source": [
        "### Activities"
      ]
    },
    {
      "cell_type": "markdown",
      "metadata": {
        "id": "q4fH06mIjuK3"
      },
      "source": [
        "#### Activity 1: Array Flipping\n",
        "\n",
        "Create a function that flips a horizontal list into a vertical list, and a vertical list into a horizontal list.\n",
        "\n",
        "In other words, take a $1$ X $n$ list (1 row and n columns) and flip it into a $n$ X $1$ list (n rows and 1 column) and vice versa.\n",
        "\n",
        "**Constraint**:\n",
        "\n",
        "- If given an empty list `[]`, return an empty list `[]`.\n",
        "\n",
        "**Examples**\n",
        "```\n",
        "flip_list([1, 2, 3, 4]) ➞ [[1], [2], [3], [4]]\n",
        "# Take a horizontal list and flip it vertical.\n",
        "\n",
        "flip_list([[5], [6], [9]]) ➞ [5, 6, 9]\n",
        "# Take a vertical list and flip it horizontal.\n",
        "\n",
        "flip_list([]) ➞ []\n",
        "```"
      ]
    },
    {
      "cell_type": "code",
      "metadata": {
        "id": "4EAoTskqg041",
        "colab": {
          "base_uri": "https://localhost:8080/"
        },
        "outputId": "54dd6ac3-b1f4-4cc3-b0dc-692b63f37dc3"
      },
      "source": [
        "# Write a function to flip the list\n",
        "list1=[12,23,34,45,56]\n",
        "list2=[[12],[23],[34],[45],[56]]\n",
        "def flip_list(n):\n",
        "  empty=[]\n",
        "  for p in range(len(n)):\n",
        "    for q in range(len(list1)):\n",
        "      for r in range(len(list2)):\n",
        "\n",
        "        if type(n[p])==type(list1[q]):\n",
        "          for i in n:\n",
        "            empty.append([i])\n",
        "          return empty\n",
        "        elif type(n[p])==type(list2[r]):\n",
        "          for j in n:\n",
        "            j=str(j)\n",
        "            empty.append(int(j[1]))\n",
        "          return empty\n",
        "      \n",
        "  if len(n)==0:\n",
        "      \n",
        "    return empty\n",
        "    \n",
        "          \n",
        "flip_list([1,2,3,4,5])\n",
        "\n",
        "\n"
      ],
      "execution_count": null,
      "outputs": [
        {
          "output_type": "execute_result",
          "data": {
            "text/plain": [
              "[[1], [2], [3], [4], [5]]"
            ]
          },
          "metadata": {
            "tags": []
          },
          "execution_count": 35
        }
      ]
    },
    {
      "cell_type": "markdown",
      "metadata": {
        "id": "xJlPs9X9oeRw"
      },
      "source": [
        "---"
      ]
    },
    {
      "cell_type": "markdown",
      "metadata": {
        "id": "qA-b1CdeofKc"
      },
      "source": [
        "#### Activity 2: Happy Numbers\n",
        "\n",
        "We are given a list of `0`s and `1`s, like the one below:\n",
        "```\n",
        "[0, 1, 0, 0, 0, 1, 1, 1, 0, 1]\n",
        "\n",
        "# The first element, a '0', and the last element, a '1' both are unhappy.\n",
        "# The second element, a '1' is unhappy.\n",
        "# The second-to-last element, a '0' is unhappy.\n",
        "# All other numbers in this list are happy.\n",
        "```\n",
        "\n",
        "A `1` is unhappy if the digit to its left and the digit to its right are both `0`s. A `0` is unhappy if the digit to its left and the digit to its right are both `1`s. If a number has only one neighbour, it is unhappy if its only neighbour is different. Otherwise, a number is happy.\n",
        "\n",
        "Write a function that takes in a list of `0`s and `1`s and outputs the percentage of numbers which are happy. The total percentage of numbers which are happy can be represented as:\n",
        "\n",
        "\n",
        "\n",
        "$$\\text{Percentage of happy numbers = }\\frac{\\text{number of happy 0s + number of happy 1s}} {\\text{total numbers}}\\times \\left (100\\right)$$\n",
        "\n",
        "In the example above, percentage of happy numbers is $60 \\%$ ."
      ]
    },
    {
      "cell_type": "code",
      "metadata": {
        "colab": {
          "base_uri": "https://localhost:8080/"
        },
        "id": "LG14eL_xhT0G",
        "outputId": "3ab61416-e7c1-477a-a579-a8f6d8b4174d"
      },
      "source": [
        "# Write your solution here.\n",
        "def percentage_happy(numbers):\n",
        "  happy=0\n",
        "  if numbers[0]==numbers[1]:\n",
        "    happy+=1\n",
        "  elif numbers[-1]==numbers[-2]:\n",
        "    happy+=1\n",
        "  if len(numbers)>2:\n",
        "    for i in range(1,len(numbers)-1):\n",
        "      if (numbers[i]==numbers[i-1]) or (numbers[i]==numbers[i+1]):\n",
        "        happy+=1\n",
        "  return float(happy/len(numbers))*100\n",
        "percentage_happy([0,1,0,0,0,1,1,1,0,1])"
      ],
      "execution_count": null,
      "outputs": [
        {
          "output_type": "execute_result",
          "data": {
            "text/plain": [
              "60.0"
            ]
          },
          "metadata": {
            "tags": []
          },
          "execution_count": 20
        }
      ]
    },
    {
      "cell_type": "markdown",
      "metadata": {
        "id": "KOVBiUSMzut1"
      },
      "source": [
        "---"
      ]
    },
    {
      "cell_type": "markdown",
      "metadata": {
        "id": "ecK9ft97ej9x"
      },
      "source": [
        "### Submitting the Project:\n",
        "\n",
        "1. After finishing the project, click on the **Share** button on the top right corner of the notebook. A new dialog box will appear.\n",
        "\n",
        "  <img src='https://student-datasets-bucket.s3.ap-south-1.amazonaws.com/images/project-share-images/2_share_button.png' width=500>\n",
        "\n",
        "2. In the dialog box, make sure that '**Anyone on the Internet with this link can view**' option is selected and then click on the **Copy link** button.\n",
        "\n",
        "   <img src='https://student-datasets-bucket.s3.ap-south-1.amazonaws.com/images/project-share-images/3_copy_link.png' width=500>\n",
        "\n",
        "3. The link of the duplicate copy (named as **YYYY-MM-DD_StudentName_Project35**) of the notebook will get copied \n",
        "\n",
        "   <img src='https://student-datasets-bucket.s3.ap-south-1.amazonaws.com/images/project-share-images/4_copy_link_confirmation.png' width=500>\n",
        "\n",
        "4. Go to your dashboard and click on the **My Projects** option.\n",
        "   \n",
        "   <img src='https://student-datasets-bucket.s3.ap-south-1.amazonaws.com/images/project-share-images/5_student_dashboard.png' width=800>\n",
        "\n",
        "  <img src='https://student-datasets-bucket.s3.ap-south-1.amazonaws.com/images/project-share-images/6_my_projects.png' width=800>\n",
        "\n",
        "5. Click on the **View Project** button for the project you want to submit.\n",
        "\n",
        "   <img src='https://student-datasets-bucket.s3.ap-south-1.amazonaws.com/images/project-share-images/7_view_project.png' width=800>\n",
        "\n",
        "6. Click on the **Submit Project Here** button.\n",
        "\n",
        "   <img src='https://student-datasets-bucket.s3.ap-south-1.amazonaws.com/images/project-share-images/8_submit_project.png' width=800>\n",
        "\n",
        "7. Paste the link to the project file named as **YYYY-MM-DD_StudentName_Project35** in the URL box and then click on the **Submit** button.\n",
        "\n",
        "   <img src='https://student-datasets-bucket.s3.ap-south-1.amazonaws.com/images/project-share-images/9_enter_project_url.png' width=800> "
      ]
    },
    {
      "cell_type": "markdown",
      "metadata": {
        "id": "r7kLxzlwejDa"
      },
      "source": [
        "---"
      ]
    }
  ]
}