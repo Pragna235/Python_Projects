{
  "nbformat": 4,
  "nbformat_minor": 0,
  "metadata": {
    "colab": {
      "provenance": [],
      "collapsed_sections": [],
      "include_colab_link": true
    },
    "kernelspec": {
      "name": "python3",
      "display_name": "Python 3"
    }
  },
  "cells": [
    {
      "cell_type": "markdown",
      "metadata": {
        "id": "view-in-github",
        "colab_type": "text"
      },
      "source": [
        "<a href=\"https://colab.research.google.com/github/Pragna235/Python_Projects/blob/main/BOXPLOT_21.ipynb\" target=\"_parent\"><img src=\"https://colab.research.google.com/assets/colab-badge.svg\" alt=\"Open In Colab\"/></a>"
      ]
    },
    {
      "cell_type": "markdown",
      "metadata": {
        "id": "YZnBY81YDCCr"
      },
      "source": [
        "### Instructions"
      ]
    },
    {
      "cell_type": "markdown",
      "metadata": {
        "id": "bEyBzxYRhrLG"
      },
      "source": [
        "#### Goal of the Project\n",
        "\n",
        "This project is designed for you to practice and solve the activities that are based on the concepts covered in the following lessons:\n",
        "\n",
        "  1. While Loop, Data-Type Conversion and Conditional Statements \n",
        "  2. Python Lists\n",
        "  3. List Comprehension "
      ]
    },
    {
      "cell_type": "markdown",
      "metadata": {
        "id": "DPOFIO3EHncO"
      },
      "source": [
        "---"
      ]
    },
    {
      "cell_type": "markdown",
      "metadata": {
        "id": "krym8CeMhscq"
      },
      "source": [
        "#### Getting Started:\n",
        "\n",
        "1. Click on this link to open the Colab file for this project.\n",
        "\n",
        "      https://colab.research.google.com/drive/13-86bxGgFuSIHndg9fPSFsiuk7aly9Q2?usp=sharing\n",
        "\n",
        "2. Create a duplicate copy of the Colab file as described below.\n",
        "\n",
        "  - Click on the **File menu**. A new drop-down list will appear.\n",
        "\n",
        "   <img src='https://student-datasets-bucket.s3.ap-south-1.amazonaws.com/images/lesson-0/0_file_menu.png' width=500>\n",
        "\n",
        "  - Click on the **Save a copy in Drive** option. A duplicate copy will get created. It will open up in the new tab on your web browser.\n",
        "\n",
        "  <img src='https://student-datasets-bucket.s3.ap-south-1.amazonaws.com/images/lesson-0/1_create_colab_duplicate_copy.png' width=500>\n",
        "\n",
        "3. After creating the duplicate copy of the notebook, please rename it in the **YYYY-MM-DD_StudentName_Project21** format.\n",
        "\n",
        "4. Now, write your code in the prescribed code cells.\n"
      ]
    },
    {
      "cell_type": "markdown",
      "metadata": {
        "id": "BBqkpH4_Doqe"
      },
      "source": [
        "---"
      ]
    },
    {
      "cell_type": "markdown",
      "metadata": {
        "id": "q4fH06mIjuK3"
      },
      "source": [
        "#### Activity 1: Palindrome Number\n",
        "\n",
        "Write a program which takes a number as an input and find out whether the number is a palindrome or not.\n",
        "\n",
        "A number is said to be palindrome if the reverse of the number is the same as the number. For example, `1331` is a **palindrome**, but `1313` is **not a palindrome**. \n",
        "\n",
        "In this program, you simply need to find the reverse of the number and check whether it is equal to the original.\n",
        "\n",
        "**Example:**\n",
        "```\n",
        "Enter number:141\n",
        "The number is a palindrome\n",
        "\n",
        "Enter number:152\n",
        "The number is not a palindrome\n",
        "```\n",
        "\n",
        "Follow the steps given below to achieve the desired result:\n",
        "\n",
        "**Step 1**: Take the value of the integer and store in a variable.\n",
        "\n",
        "**Step 2**: Transfer the value of the integer into another temporary variable.\n",
        "\n",
        "**Step 3**: Using a while loop, obtain each digit of the number and reverse the number. Store the reversed number in another variable.\n",
        "\n",
        "**Step 4**: Check if the reversed number is equal to the one stored in the temporary variable.\n",
        "\n",
        "**Step 5**: Print the final result.\n",
        "\n",
        "\n"
      ]
    },
    {
      "cell_type": "code",
      "metadata": {
        "id": "4EAoTskqg041",
        "colab": {
          "base_uri": "https://localhost:8080/"
        },
        "outputId": "dc19410e-1f1f-4061-e317-b1ca3b09030c"
      },
      "source": [
        "# Write your code here\n",
        "num=int(input(\"Enter any number = \"))\n",
        "temp=num\n",
        "reverse=0\n",
        "while num>0:\n",
        "  dig=num%10\n",
        "\n",
        "  reverse=reverse*10+dig\n",
        "  \n",
        "  num=num//10\n",
        "  \n",
        "\n",
        "if temp==reverse:\n",
        "  print(\"Number is a palindrome\")\n",
        "else:\n",
        "  print(\"Number is not a palindrome\")\n"
      ],
      "execution_count": null,
      "outputs": [
        {
          "output_type": "stream",
          "text": [
            "Enter any number = 34543\n",
            "Number is a palindrome\n"
          ],
          "name": "stdout"
        }
      ]
    },
    {
      "cell_type": "markdown",
      "metadata": {
        "id": "xJlPs9X9oeRw"
      },
      "source": [
        "---"
      ]
    },
    {
      "cell_type": "markdown",
      "metadata": {
        "id": "qA-b1CdeofKc"
      },
      "source": [
        "#### Activity 2: Two Distinct Elements\n",
        "\n",
        "Create a function that returns the unique numbers within a list. Unique numbers are those numbers which occurred only once inside the list.\n",
        "\n",
        "**Constraint**\n",
        "\n",
        "Keep the same ordering in the output.\n",
        "\n",
        "**Sample Input 1**\n",
        "```\n",
        "[1, 9, 8, 8, 7, 6, 1, 6]\n",
        "```\n",
        "\n",
        "**Sample Output 1**\n",
        "```\n",
        "[9, 7]\n",
        "```\n",
        "\n",
        "**Sample Input 2**\n",
        "```\n",
        "[5, 5, 2, 4, 4, 4, 9, 9, 9, 1, 0]\n",
        "```\n",
        "\n",
        "**Sample Output 2**\n",
        "```\n",
        "[2, 1, 0]\n",
        "```\n",
        "**Hint:** Use `count()` function and List Comprehension.\n",
        "\n"
      ]
    },
    {
      "cell_type": "code",
      "metadata": {
        "id": "AtvPTG3kpBoS",
        "colab": {
          "base_uri": "https://localhost:8080/"
        },
        "outputId": "b9f3b757-a059-48a6-cc43-ae0d19dc64dd"
      },
      "source": [
        "# Write your solution here.\n",
        "def unique_numbers(lst):\n",
        "  length=len(lst)\n",
        "  for i in range(length):\n",
        "    num=lst.count(lst[i])\n",
        "    \n",
        "    if num==1:\n",
        "      print(lst[i])\n",
        "\n",
        "\n",
        "    \n",
        "unique_numbers([1,2,2,3,4])\n",
        "  \n",
        "\n",
        "\n"
      ],
      "execution_count": null,
      "outputs": [
        {
          "output_type": "stream",
          "text": [
            "1\n",
            "3\n",
            "4\n"
          ],
          "name": "stdout"
        }
      ]
    },
    {
      "cell_type": "markdown",
      "metadata": {
        "id": "KOVBiUSMzut1"
      },
      "source": [
        "---"
      ]
    },
    {
      "cell_type": "markdown",
      "metadata": {
        "id": "BNlGj8NNJ1Y0"
      },
      "source": [
        "### How To Submit The Project\n",
        "\n",
        "Follow the steps described below to submit the project.\n",
        "1. After finishing the project, click on the **Share** button on the top right corner of the notebook. A new dialog box will appear.\n",
        "  <img src='https://student-datasets-bucket.s3.ap-south-1.amazonaws.com/images/project-share-images/2_share_button.png' width=500>\n",
        "2. In the dialog box, click on the **Copy link** button. Make sure that '**Anyone on the Internet with this link can view**' option is selected and then click on the **Copy link** button.\n",
        "\n",
        "   <img src='https://student-datasets-bucket.s3.ap-south-1.amazonaws.com/images/project-share-images/3_copy_link.png' width=500>\n",
        "3. The link of the duplicate copy (named as **YYYY-MM-DD_StudentName_Project21**) of the notebook will get copied \n",
        "   <img src='https://student-datasets-bucket.s3.ap-south-1.amazonaws.com/images/project-share-images/4_copy_link_confirmation.png' width=500>\n",
        "4. Go to your dashboard and click on the **My Projects** option.\n",
        "   <img src='https://student-datasets-bucket.s3.ap-south-1.amazonaws.com/images/project-share-images/5_student_dashboard.png' width=800>\n",
        "   <img src='https://student-datasets-bucket.s3.ap-south-1.amazonaws.com/images/project-share-images/6_my_projects.png' width=800>\n",
        "5. Click on the **View Project** button for the project you want to submit.\n",
        "   <img src='https://student-datasets-bucket.s3.ap-south-1.amazonaws.com/images/project-share-images/7_view_project.png' width=800>\n",
        "6. Click on the **Submit Project Here** button.\n",
        "   <img src='https://student-datasets-bucket.s3.ap-south-1.amazonaws.com/images/project-share-images/8_submit_project.png' width=800>\n",
        "7. Past the link to the project named as **YYYY-MM-DD_StudentName_Project21** in the URL box and then click on the **Submit** button.\n",
        "   <img src='https://student-datasets-bucket.s3.ap-south-1.amazonaws.com/images/project-share-images/9_enter_project_url.png' width=800>\n"
      ]
    },
    {
      "cell_type": "markdown",
      "metadata": {
        "id": "HSz7jRSlGxIO"
      },
      "source": [
        "---"
      ]
    }
  ]
}