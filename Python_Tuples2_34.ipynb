{
  "nbformat": 4,
  "nbformat_minor": 0,
  "metadata": {
    "colab": {
      "provenance": [],
      "collapsed_sections": [],
      "include_colab_link": true
    },
    "kernelspec": {
      "name": "python3",
      "display_name": "Python 3"
    }
  },
  "cells": [
    {
      "cell_type": "markdown",
      "metadata": {
        "id": "view-in-github",
        "colab_type": "text"
      },
      "source": [
        "<a href=\"https://colab.research.google.com/github/Pragna235/Python_Projects/blob/main/Python_Tuples2_34.ipynb\" target=\"_parent\"><img src=\"https://colab.research.google.com/assets/colab-badge.svg\" alt=\"Open In Colab\"/></a>"
      ]
    },
    {
      "cell_type": "markdown",
      "metadata": {
        "id": "YZnBY81YDCCr"
      },
      "source": [
        "### Instructions"
      ]
    },
    {
      "cell_type": "markdown",
      "metadata": {
        "id": "fIKnY8occu37"
      },
      "source": [
        "#### Goal of the Project\n",
        "\n",
        "This project is designed for you to practice and solve the activities that are based on the concepts covered in the following lessons:\n",
        "\n",
        "1. Python Lists\n",
        "\n",
        "2. Python Dictionary\n",
        "\n",
        "\n"
      ]
    },
    {
      "cell_type": "markdown",
      "metadata": {
        "id": "08DjTWdhTOwF"
      },
      "source": [
        "---"
      ]
    },
    {
      "cell_type": "markdown",
      "metadata": {
        "id": "bkqEcs9ITPlv"
      },
      "source": [
        "#### Getting Started:\n",
        "\n",
        "1. Click on this link to open the Colab file for this project.\n",
        "\n",
        "  https://colab.research.google.com/drive/1nU59EZsSyh9LjyxZcY18rG_d_uDR7KF2\n",
        "\n",
        "2. Create a duplicate copy of the Colab file as described below.\n",
        "\n",
        "  - Click on the **File menu**. A new drop-down list will appear.\n",
        "\n",
        "   <img src='https://student-datasets-bucket.s3.ap-south-1.amazonaws.com/images/lesson-0/0_file_menu.png' width=500>\n",
        "\n",
        "  - Click on the **Save a copy in Drive** option. A duplicate copy will get created. It will open up in the new tab on your web browser.\n",
        "\n",
        "  <img src='https://student-datasets-bucket.s3.ap-south-1.amazonaws.com/images/lesson-0/1_create_colab_duplicate_copy.png' width=500>\n",
        "\n",
        "3. After creating the duplicate copy of the notebook, please rename it in the **YYYY-MM-DD_StudentName_Project34** format.\n",
        "\n",
        "4. Now, write your code in the prescribed code cells.\n"
      ]
    },
    {
      "cell_type": "markdown",
      "metadata": {
        "id": "BBqkpH4_Doqe"
      },
      "source": [
        "---"
      ]
    },
    {
      "cell_type": "markdown",
      "metadata": {
        "id": "H0P9F3DUf8x2"
      },
      "source": [
        "### Activities\n",
        "\n",
        "\n",
        "  "
      ]
    },
    {
      "cell_type": "markdown",
      "metadata": {
        "id": "BVT9G_baB1aq"
      },
      "source": [
        "#### Activity 1: Hole Number Sequence\n",
        "\n",
        "What do the digits **0, 4, 6, 8,** and **9** have in common? Well, they are whole numbers and they are also **hole** numbers (not actually a thing until now). **Hole** numbers are numbers having holes in their shapes (8 is a special hole number because it contains two holes).\n",
        "\n",
        "14 is a hole number having one hole. 88 is a hole number having four holes.\n",
        "\n",
        "Your task is to create a function that takes an input $N$ (a natural number) and returns the sum of the number of holes present in the first $N$ natural numbers, i.e., $1, 2, 3, \\dots, N$.\n",
        "\n",
        "To illustrate, `sum_of_holes(14)` returns `7`, because there are `7` holes in `4, 6, 8, 9, 10 and 14`.\n",
        "\n",
        "\n",
        "**Examples**\n",
        "```\n",
        "sum_of_holes(4) ➞ 1\n",
        "```\n",
        "Here, $N = 4$\n",
        "\n",
        "Therefore, amongst the numbers $1, 2, 3, 4$, only $4$ has a hole. Hence, the `sum_of_hole()` function should return $1$.\n",
        "\n",
        "Similarly,\n",
        "\n",
        "```\n",
        "sum_of_holes(6) ➞ 2\n",
        "\n",
        "sum_of_holes(8) ➞ 4\n",
        "\n",
        "sum_of_holes(6259) ➞ 12345\n",
        "```\n",
        "\n",
        "**Hint**: \n",
        "\n",
        "Store the number of holes in each number from `1` to `9` in a Python dictionary.\n",
        "\n",
        "```\n",
        "{'0': 1, \n",
        " '1': 0, \n",
        " '2': 0, \n",
        " '3': 0, \n",
        " '4': 1, \n",
        " '5': 0, \n",
        " '6': 1, \n",
        " '7': 0, \n",
        " '8': 2, \n",
        " '9': 1\n",
        "}\n",
        "```"
      ]
    },
    {
      "cell_type": "code",
      "metadata": {
        "id": "0pIGxKG9B3mb",
        "colab": {
          "base_uri": "https://localhost:8080/"
        },
        "outputId": "0e55d989-0442-4f5f-dc55-327048ae8129"
      },
      "source": [
        "# Write your solution here\n",
        "# Create a dictionary to store the number of holes from 1 to 9\n",
        "num_dict={'0': 1, \n",
        "          '1': 0, \n",
        "          '2': 0, \n",
        "          '3': 0, \n",
        "          '4': 1, \n",
        "          '5': 0, \n",
        "          '6': 1, \n",
        "          '7': 0, \n",
        "          '8': 2, \n",
        "          '9': 1}\n",
        "\n",
        "\n",
        "# Create a function which takes a number as parameter and counts the number of holes in that number\n",
        "def holes(num):\n",
        "  \n",
        "#Initialize a variable to 0.\n",
        "  holes=0\n",
        "# Call a for loop to get the indexes of 'list2'.\n",
        "  \n",
        "  for i in str(num):\n",
        "    \n",
        "    holes+=num_dict[i]\n",
        "  return holes\n",
        "# Call a while loop to get the holes of every item in 'list2'.\n",
        "  \n",
        "      \n",
        "\n",
        "\n",
        "\n",
        "\n",
        "# Create a function that takes a number 'num' as input,\n",
        "def sum_of_holes(num):\n",
        "  hole=0\n",
        "  for i in range(1,num+1):\n",
        "  \n",
        "    hole+=holes(i)\n",
        "  return hole\n",
        "  \n",
        "    \n",
        "\n",
        "# and generates numbers from 1 to 'num' and calculates the sum of holes for numbers upto 'num'\n",
        "sum_of_holes(6259)\n"
      ],
      "execution_count": null,
      "outputs": [
        {
          "output_type": "execute_result",
          "data": {
            "text/plain": [
              "12345"
            ]
          },
          "metadata": {
            "tags": []
          },
          "execution_count": 8
        }
      ]
    },
    {
      "cell_type": "code",
      "metadata": {
        "colab": {
          "base_uri": "https://localhost:8080/"
        },
        "id": "3OWeHNFQK9wy",
        "outputId": "2d0bcf39-16f3-43be-9e1a-5d74ee45f92e"
      },
      "source": [
        "# Write your solution here.\n",
        "# Create a list and store the hole values of all the ten 'digits'.\n",
        "# Import numpy module.\n",
        "import numpy as np\n",
        "holes_list=[1,0,0,0,1,0,1,0,2,1]\n",
        "\n",
        "# Create a function which takes a number as a parameter and generates numbers from 1 to that 'num' and calculates the sum of holes form 1 to that 'num'.\n",
        "def sum_of_holes(num):\n",
        "# Create a list or an array and store numbers from 1 to the given number.\n",
        "  list2=np.arange(1,num+1)\n",
        "#Initialize a variable to 0.\n",
        "  holes=0\n",
        "# Call a for loop to get the indexes of 'list2'.\n",
        "  for i in range(len(list2)):\n",
        "# Call a while loop to get the holes of every item in 'list2'.\n",
        "    while list2[i]>0:\n",
        "# Get the last digit of every item in 'list2'.\n",
        "      p=list2[i]%10\n",
        "      \n",
        "      \n",
        "# Update the value of holes.\n",
        "      holes=holes+holes_list[p]\n",
        "# Remove the last digit of every item in 'list2'.\n",
        "      list2[i]=list2[i]//10\n",
        "# Return the holes.\n",
        "  return holes\n",
        "# Call the 'sum_of_holes' function.\n",
        "sum_of_holes(9)"
      ],
      "execution_count": null,
      "outputs": [
        {
          "output_type": "execute_result",
          "data": {
            "text/plain": [
              "5"
            ]
          },
          "metadata": {
            "tags": []
          },
          "execution_count": 13
        }
      ]
    },
    {
      "cell_type": "markdown",
      "metadata": {
        "id": "IJIZASayCpEW"
      },
      "source": [
        "---"
      ]
    },
    {
      "cell_type": "markdown",
      "metadata": {
        "id": "5kBinzKxn3hd"
      },
      "source": [
        "#### Activity 2: Water Balloon\n",
        "\n",
        "Consider a water balloon hanging in the mid-air. Imagine that you have popped the balloon. The ground beneath the balloon gets soaked because of the water and creates a wet circular patch. As you move farther away from the centre of the patch, in the radially outward direction, the ground is less wet or the extent of wetness reduces.\n",
        "\n",
        "This gradual decrease in the extent of wetness of a ground can be modeled using a Python list. \n",
        "\n",
        "**Examples**\n",
        "\n",
        "```\n",
        "[0, 0, 0, 0, 4, 0, 0, 0, 0] ➞ [0, 1, 2, 3, 4, 3, 2, 1, 0]\n",
        "```\n",
        "\n",
        "In the above example, i.e., `[0, 0, 0, 0, 4, 0, 0, 0, 0]`, the extent of wetness at the centre is `4` (the middle element of the list) immediately after the balloon is popped where `4` denotes the ground is very wet and `0` denotes the ground is dry. \n",
        "\n",
        "Over the time, the wet patch expands slowly in the radially outward direction with the center of the patch being most wet and periphery of the patch being least wet. Outside the periphery, the ground is dry. This phenomenon is denoted by the `[0, 1, 2, 3, 4, 3, 2, 1, 0]` list\n",
        "\n",
        "The number `4` at the centre denotes the most wet portion of the patch, `1` denotes the least wet portion and `0` denotes the ground outside the patch is dry.\n",
        "\n",
        "\n",
        "Here are a few more examples.\n",
        "\n",
        "```\n",
        "[0, 0, 0, 3, 0, 0, 0] ➞ [0, 1, 2, 3, 2, 1, 0]\n",
        "\n",
        "[0, 0, 2, 0, 0] ➞ [0, 1, 2, 1, 0]\n",
        "\n",
        "[0] ➞ [0]\n",
        "```\n",
        "\n",
        "Create a function that takes a Python list (representing the state of the ground below the water balloon before popping it) and returns another Python list (denoting the state of the wet patch after some time after the balloon is popped). \n",
        "\n"
      ]
    },
    {
      "cell_type": "code",
      "metadata": {
        "id": "rE0jqJdIQXgx",
        "colab": {
          "base_uri": "https://localhost:8080/"
        },
        "outputId": "f59e3532-9791-49db-fb1b-d4f1c514d0d3"
      },
      "source": [
        "# Write your solution here.\n",
        "def water_balloon(n):\n",
        "  length_1=((len(n)+1)//2)\n",
        "  length_2=length_1-1\n",
        "  mid_term=n[length_2]\n",
        "  for i in range(0,length_2):\n",
        "    n[i]=i\n",
        "    n[-1-i]=i\n",
        "  return n\n",
        "water_balloon([0,0,0,0,0,5,0,0,0,0,0])"
      ],
      "execution_count": null,
      "outputs": [
        {
          "output_type": "execute_result",
          "data": {
            "text/plain": [
              "[0, 1, 2, 3, 4, 5, 4, 3, 2, 1, 0]"
            ]
          },
          "metadata": {
            "tags": []
          },
          "execution_count": 89
        }
      ]
    },
    {
      "cell_type": "markdown",
      "metadata": {
        "id": "S6177jGyTfY_"
      },
      "source": [
        "---"
      ]
    },
    {
      "cell_type": "markdown",
      "metadata": {
        "id": "wipqKdnsTgIV"
      },
      "source": [
        "### Submitting the Project:\n",
        "\n",
        "1. After finishing the project, click on the **Share** button on the top right corner of the notebook. A new dialog box will appear.\n",
        "\n",
        "  <img src='https://student-datasets-bucket.s3.ap-south-1.amazonaws.com/images/project-share-images/2_share_button.png' width=500>\n",
        "\n",
        "2. In the dialog box, make sure that '**Anyone on the Internet with this link can view**' option is selected and then click on the **Copy link** button.\n",
        "\n",
        "   <img src='https://student-datasets-bucket.s3.ap-south-1.amazonaws.com/images/project-share-images/3_copy_link.png' width=500>\n",
        "\n",
        "3. The link of the duplicate copy (named as **YYYY-MM-DD_StudentName_Project34**) of the notebook will get copied \n",
        "\n",
        "   <img src='https://student-datasets-bucket.s3.ap-south-1.amazonaws.com/images/project-share-images/4_copy_link_confirmation.png' width=500>\n",
        "\n",
        "4. Go to your dashboard and click on the **My Projects** option.\n",
        "   \n",
        "   <img src='https://student-datasets-bucket.s3.ap-south-1.amazonaws.com/images/project-share-images/5_student_dashboard.png' width=800>\n",
        "\n",
        "  <img src='https://student-datasets-bucket.s3.ap-south-1.amazonaws.com/images/project-share-images/6_my_projects.png' width=800>\n",
        "\n",
        "5. Click on the **View Project** button for the project you want to submit.\n",
        "\n",
        "   <img src='https://student-datasets-bucket.s3.ap-south-1.amazonaws.com/images/project-share-images/7_view_project.png' width=800>\n",
        "\n",
        "6. Click on the **Submit Project Here** button.\n",
        "\n",
        "   <img src='https://student-datasets-bucket.s3.ap-south-1.amazonaws.com/images/project-share-images/8_submit_project.png' width=800>\n",
        "\n",
        "7. Paste the link to the project file named as **YYYY-MM-DD_StudentName_Project34** in the URL box and then click on the **Submit** button.\n",
        "\n",
        "   <img src='https://student-datasets-bucket.s3.ap-south-1.amazonaws.com/images/project-share-images/9_enter_project_url.png' width=800> "
      ]
    },
    {
      "cell_type": "markdown",
      "metadata": {
        "id": "MWkPEALQn-lN"
      },
      "source": [
        "---"
      ]
    }
  ]
}