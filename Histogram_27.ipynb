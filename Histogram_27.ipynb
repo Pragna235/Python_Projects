{
  "nbformat": 4,
  "nbformat_minor": 0,
  "metadata": {
    "colab": {
      "provenance": [],
      "collapsed_sections": [],
      "include_colab_link": true
    },
    "kernelspec": {
      "name": "python3",
      "display_name": "Python 3"
    }
  },
  "cells": [
    {
      "cell_type": "markdown",
      "metadata": {
        "id": "view-in-github",
        "colab_type": "text"
      },
      "source": [
        "<a href=\"https://colab.research.google.com/github/Pragna235/Python_Projects/blob/main/Histogram_27.ipynb\" target=\"_parent\"><img src=\"https://colab.research.google.com/assets/colab-badge.svg\" alt=\"Open In Colab\"/></a>"
      ]
    },
    {
      "cell_type": "markdown",
      "metadata": {
        "id": "YZnBY81YDCCr"
      },
      "source": [
        "### Instructions"
      ]
    },
    {
      "cell_type": "markdown",
      "metadata": {
        "id": "fIKnY8occu37"
      },
      "source": [
        "#### Goal of the Project\n",
        "\n",
        "This project is designed for you to practice and solve the activities that are based on the concepts covered in the following lessons:\n",
        "\n",
        "1. While Loop, Data-Type Conversion and Conditional Statements \n",
        "\n",
        "2. Python Lists\n"
      ]
    },
    {
      "cell_type": "markdown",
      "metadata": {
        "id": "xVjK5anRpFU1"
      },
      "source": [
        "---"
      ]
    },
    {
      "cell_type": "markdown",
      "metadata": {
        "id": "Y0IdfVc8pGDB"
      },
      "source": [
        "#### Getting Started:\n",
        "\n",
        "1. Click on this link to open the Colab file for this project.\n",
        "\n",
        "   https://colab.research.google.com/drive/13n6yD6w-cO2Fx0xwCVfXW1J88nuIZzeV?usp=sharing \n",
        "\n",
        "2. Create a duplicate copy of the Colab file as described below.\n",
        "\n",
        "  - Click on the **File menu**. A new drop-down list will appear.\n",
        "\n",
        "   <img src='https://student-datasets-bucket.s3.ap-south-1.amazonaws.com/images/lesson-0/0_file_menu.png' width=500>\n",
        "\n",
        "  - Click on the **Save a copy in Drive** option. A duplicate copy will get created. It will open up in the new tab on your web browser.\n",
        "\n",
        "  <img src='https://student-datasets-bucket.s3.ap-south-1.amazonaws.com/images/lesson-0/1_create_colab_duplicate_copy.png' width=500>\n",
        "\n",
        "3. After creating the duplicate copy of the notebook, please rename it in the **YYYY-MM-DD_StudentName_Project27** format.\n",
        "\n",
        "4. Now, write your code in the prescribed code cells.\n"
      ]
    },
    {
      "cell_type": "markdown",
      "metadata": {
        "id": "BBqkpH4_Doqe"
      },
      "source": [
        "---"
      ]
    },
    {
      "cell_type": "markdown",
      "metadata": {
        "id": "H0P9F3DUf8x2"
      },
      "source": [
        "### Activities\n",
        "\n",
        "\n",
        "  "
      ]
    },
    {
      "cell_type": "markdown",
      "metadata": {
        "id": "BVT9G_baB1aq"
      },
      "source": [
        "#### Activity 1: Bonus Calculation\n",
        "\n",
        "A financial institution has set a scheme to motivate and reward its staff by paying a bonus for each day.\n",
        "\n",
        "This scheme is calculated with a threshold target of 32 days per quarter, and the incentive payment for each billable day in excess of such threshold target is shown as follows:\n",
        "\n",
        "|Days                |Bonus                     |\n",
        "|--------------------|--------------------------|\n",
        "|0 to 32 days        |Zero                      |\n",
        "|33 to 40 days       |SGD \\$325 per billable day|\n",
        "|41 to 48 days       |SGD \\$550 per billable day|\n",
        "|Greater than 48 days|SGD \\$600 per billable day|\n",
        "\n",
        "\n",
        "Please note that incentive payment is calculated progressively. As an example, if an employee reached total billable days of 45 in a quarter, his/her incentive payment is computed as follows:\n",
        "```\n",
        "32*0 + 8*325 + 5*550 = 5350\n",
        "```\n",
        "Write a function to read the billable days of an employee and return the bonus he/she has obtained in that quarter.\n",
        "\n",
        "**Examples** :\n",
        "```\n",
        "calculate_bonus(15) ➞ 0\n",
        "\n",
        "calculate_bonus(37) ➞ 1625\n",
        "\n",
        "calculate_bonus(50) ➞ 8200\n",
        "```"
      ]
    },
    {
      "cell_type": "code",
      "metadata": {
        "id": "0pIGxKG9B3mb",
        "colab": {
          "base_uri": "https://localhost:8080/"
        },
        "outputId": "8615f517-4f1b-4b1b-a0fa-4aa9d1b44993"
      },
      "source": [
        "# Write function to read the billable days of an employee and return the bonus he/she has obtained in that quarter.\n",
        "def calculate_bonus(n):\n",
        "  \n",
        "    if n<=32:\n",
        "      return 0\n",
        "    elif n in range(33,41):\n",
        "      bonus1=(n-32)*325\n",
        "      return bonus1\n",
        "    elif n in range(41,49):\n",
        "      bonus2=(8*325)+((n-40)*550)\n",
        "      return bonus2\n",
        "    else:\n",
        "      bonus3=((8*325)+(8*550)+((n-48)*600))\n",
        "      return bonus3\n",
        "calculate_bonus(45)\n",
        "      \n",
        "\n",
        "    "
      ],
      "execution_count": null,
      "outputs": [
        {
          "output_type": "execute_result",
          "data": {
            "text/plain": [
              "5350"
            ]
          },
          "metadata": {
            "tags": []
          },
          "execution_count": 8
        }
      ]
    },
    {
      "cell_type": "markdown",
      "metadata": {
        "id": "JuwBMIeFB9xY"
      },
      "source": [
        "---"
      ]
    },
    {
      "cell_type": "markdown",
      "metadata": {
        "id": "5kBinzKxn3hd"
      },
      "source": [
        "#### Activity 2: Making a Box\n",
        "\n",
        "Define a function that creates a box based on dimension `n`. Size of box will be `(n X n)` i.e. `n` rows and `n` columns.\n",
        "\n",
        "**Constraint**\n",
        "\n",
        "- Size of the `(n x n)` box should always be greater than 2, i.e. `n > 2`.\n",
        "\n",
        "**Sample Input 1**\n",
        "```\n",
        "5\n",
        "```\n",
        "\n",
        "**Sample Output 1**\n",
        "```\n",
        "\n",
        "  \"#####\",\n",
        "  \"#   #\",\n",
        "  \"#   #\",\n",
        "  \"#   #\",\n",
        "  \"#####\"\n",
        "\n",
        "\n",
        "```\n",
        "\n",
        "**Sample Input 2**\n",
        "```\n",
        "3\n",
        "```\n",
        "\n",
        "**Sample Output 2**\n",
        "```\n",
        "\n",
        "  \"###\",\n",
        "  \"# #\",\n",
        "  \"###\"\n",
        "\n",
        "```\n",
        "\n",
        "**Hints:** \n",
        "\n",
        "- Use Python list. Create 3 lists, say `top[]`, `bottom[]` and `middle[]` which signifies top, bottom and middle rows respectively.\n",
        "\n",
        "  - `top[]` list and `bottom[]` list contains `n` number of `#`.\n",
        "  \n",
        "  -`middle[]` list contains `(n-2)` number of spaces between two `#` which are at boundaries. This list is multiplied by `n-2` to get `n-2` rows between top row and bottom row.\n",
        "\n",
        "- `['#' * n]` gives you `n` number of `#` appended in a list, \n",
        "    \n",
        "    Example : For n = 5 `['#' * 5]` gives you 5 `#` in a list, `['#####']`\n",
        "\n",
        "- Print all the lists using `*` operator inside the `print()` function as follows:\n",
        "\n",
        "  `print(*top)` - Here `*` unpacks the list and prints the elements of list as strings. \n",
        "\n",
        "(Also, to understand the importance of using `*` operator inside `print()` function, try printing all the lists without `*` and observe the change in the output)\n",
        "\n",
        "- Print `middle[]` list i.e. middle rows on separate lines using **sep** parameter of `print()` function alongwith `*` operator.\n",
        "\n",
        "Example of **sep** parameter: \n",
        "````\n",
        "print('1','2','3', sep=\"\\n\")  ⟶ 1\n",
        "                                 2\n",
        "                                 3  \n",
        "````\n",
        "Here separator is **\"\\n\"** which indicates **newline character**. This means that arguments specified in `print()` function must be printed on new line.\n",
        "\n"
      ]
    },
    {
      "cell_type": "code",
      "metadata": {
        "id": "4gjDvOhzn6TL",
        "colab": {
          "base_uri": "https://localhost:8080/"
        },
        "outputId": "69c96138-634f-4079-c990-9db5a63c35a8"
      },
      "source": [
        "# Write your solution here\n",
        "n=int(input(\"Enter any integer greater than 2 = \"))\n",
        "top=[\"#\"*n]\n",
        "middle=['#'+(' ')*(n-2)+'#']*(n-2)\n",
        "\n",
        "bottom=[\"#\"*n]\n",
        "\n",
        "print(*top,*middle,*bottom,sep=\"\\n\")\n",
        "\n"
      ],
      "execution_count": null,
      "outputs": [
        {
          "output_type": "stream",
          "text": [
            "Enter any integer greater than 2 = 5\n",
            "#####\n",
            "#   #\n",
            "#   #\n",
            "#   #\n",
            "#####\n"
          ],
          "name": "stdout"
        }
      ]
    },
    {
      "cell_type": "markdown",
      "metadata": {
        "id": "MWkPEALQn-lN"
      },
      "source": [
        "---"
      ]
    },
    {
      "cell_type": "markdown",
      "metadata": {
        "id": "UKUG69bQoi7G"
      },
      "source": [
        "### Submitting the Project:\n",
        "\n",
        "1. After finishing the project, click on the **Share** button on the top right corner of the notebook. A new dialog box will appear.\n",
        "\n",
        "  <img src='https://student-datasets-bucket.s3.ap-south-1.amazonaws.com/images/project-share-images/2_share_button.png' width=500>\n",
        "\n",
        "2. In the dialog box, make sure that '**Anyone on the Internet with this link can view**' option is selected and then click on the **Copy link** button.\n",
        "\n",
        "   <img src='https://student-datasets-bucket.s3.ap-south-1.amazonaws.com/images/project-share-images/3_copy_link.png' width=500>\n",
        "\n",
        "3. The link of the duplicate copy (named as **YYYY-MM-DD_StudentName_Project27**) of the notebook will get copied \n",
        "\n",
        "   <img src='https://student-datasets-bucket.s3.ap-south-1.amazonaws.com/images/project-share-images/4_copy_link_confirmation.png' width=500>\n",
        "\n",
        "4. Go to your dashboard and click on the **My Projects** option.\n",
        "   \n",
        "   <img src='https://student-datasets-bucket.s3.ap-south-1.amazonaws.com/images/project-share-images/5_student_dashboard.png' width=800>\n",
        "\n",
        "  <img src='https://student-datasets-bucket.s3.ap-south-1.amazonaws.com/images/project-share-images/6_my_projects.png' width=800>\n",
        "\n",
        "5. Click on the **View Project** button for the project you want to submit.\n",
        "\n",
        "   <img src='https://student-datasets-bucket.s3.ap-south-1.amazonaws.com/images/project-share-images/7_view_project.png' width=800>\n",
        "\n",
        "6. Click on the **Submit Project Here** button.\n",
        "\n",
        "   <img src='https://student-datasets-bucket.s3.ap-south-1.amazonaws.com/images/project-share-images/8_submit_project.png' width=800>\n",
        "\n",
        "7. Paste the link to the project file named as **YYYY-MM-DD_StudentName_Project27** in the URL box and then click on the **Submit** button.\n",
        "\n",
        "   <img src='https://student-datasets-bucket.s3.ap-south-1.amazonaws.com/images/project-share-images/9_enter_project_url.png' width=800> "
      ]
    },
    {
      "cell_type": "markdown",
      "metadata": {
        "id": "ejCHl8Jyohro"
      },
      "source": [
        "---"
      ]
    }
  ]
}