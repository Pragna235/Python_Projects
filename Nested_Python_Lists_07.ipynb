{
  "nbformat": 4,
  "nbformat_minor": 0,
  "metadata": {
    "colab": {
      "provenance": [],
      "collapsed_sections": [],
      "include_colab_link": true
    },
    "kernelspec": {
      "name": "python3",
      "display_name": "Python 3"
    }
  },
  "cells": [
    {
      "cell_type": "markdown",
      "metadata": {
        "id": "view-in-github",
        "colab_type": "text"
      },
      "source": [
        "<a href=\"https://colab.research.google.com/github/Pragna235/Python_Projects/blob/main/Nested_Python_Lists_07.ipynb\" target=\"_parent\"><img src=\"https://colab.research.google.com/assets/colab-badge.svg\" alt=\"Open In Colab\"/></a>"
      ]
    },
    {
      "cell_type": "markdown",
      "metadata": {
        "id": "YZnBY81YDCCr"
      },
      "source": [
        "### Instructions"
      ]
    },
    {
      "cell_type": "markdown",
      "metadata": {
        "id": "bEyBzxYRhrLG"
      },
      "source": [
        "#### Goal of the Project\n",
        "\n",
        "This project is designed for you to practice and solve the activities that are based on the concepts covered in the following lessons:\n",
        "\n",
        " 1. Variables and Data-Types\n",
        " 2. Python Lists II"
      ]
    },
    {
      "cell_type": "markdown",
      "metadata": {
        "id": "DPOFIO3EHncO"
      },
      "source": [
        "---"
      ]
    },
    {
      "cell_type": "markdown",
      "metadata": {
        "id": "krym8CeMhscq"
      },
      "source": [
        "#### Getting Started:\n",
        "\n",
        "1. Click on this link to open the Colab file for this project.\n",
        "\n",
        "    https://colab.research.google.com/drive/1L3AZ_SNBtjeO6L9kntc_VNlJGqB8c0lA?usp=sharing\n",
        "\n",
        "2. Create a duplicate copy of the Colab file as described below.\n",
        "\n",
        "  - Click on the **File menu**. A new drop-down list will appear.\n",
        "\n",
        "   <img src='https://student-datasets-bucket.s3.ap-south-1.amazonaws.com/images/lesson-0/0_file_menu.png' width=500>\n",
        "\n",
        "  - Click on the **Save a copy in Drive** option. A duplicate copy will get created. It will open up in the new tab on your web browser.\n",
        "\n",
        "  <img src='https://student-datasets-bucket.s3.ap-south-1.amazonaws.com/images/lesson-0/1_create_colab_duplicate_copy.png' width=500>\n",
        "\n",
        "3. After creating the duplicate copy of the notebook, please rename it in the **YYYY-MM-DD_StudentName_Project7** format.\n",
        "\n",
        "4. Now, write your code in the prescribed code cells.\n"
      ]
    },
    {
      "cell_type": "markdown",
      "metadata": {
        "id": "BBqkpH4_Doqe"
      },
      "source": [
        "---"
      ]
    },
    {
      "cell_type": "markdown",
      "metadata": {
        "id": "KKTxMWpSFOvT"
      },
      "source": [
        "### Activities"
      ]
    },
    {
      "cell_type": "markdown",
      "metadata": {
        "id": "q4fH06mIjuK3"
      },
      "source": [
        "#### Activity 1: Swapping numbers\n",
        "\n",
        "Accept two numbers from the user. Store these numbers in two variables and swap the values of these variables.\n",
        " \n",
        "**Example**:\n",
        "\n",
        "```\n",
        "num1: 10\n",
        "num2: 25\n",
        "Value of num1 after swapping:  25\n",
        "Value of num2 after swapping:  10\n",
        "```\n",
        "\n",
        "Follow the steps given below to achieve the desired result:\n",
        "\n",
        "  - **Step 1**: Ask the user to enter two different numbers and store them in variables `num1` and `num2` respectively.\n",
        "\n",
        "  - **Step 2**: Declare one more variable `temp` which will be used to swap the values between `num1` and `num2`. Assign the value of `num1` variable to the `temp` variable.\n",
        "\n",
        "  - **Step 3**: Assign the value of `num2` variable to `num1` variable.\n",
        "\n",
        "  - **Step 4**: Assign the value of `temp` variable to `num2` variable.\n",
        "\n",
        "  - **Step 5**: Print the values of `num1` and `num2` variables obtained after swapping."
      ]
    },
    {
      "cell_type": "code",
      "metadata": {
        "id": "4EAoTskqg041",
        "colab": {
          "base_uri": "https://localhost:8080/"
        },
        "outputId": "4dbda0b6-778b-4e11-8182-cd6262c97514"
      },
      "source": [
        "# Write your code here\n",
        "# Step 1: Accept two numbers from the user and store them 'num1' and 'num2' variables\n",
        "num1=input(\"Enter first number = \")\n",
        "num2=input(\"Enter second number = \")\n",
        "num1=int(num1)\n",
        "num2=int(num2)\n",
        "# Swapping values of variables begins\n",
        "# Step 2: Declare a temporary variable 'temp' and assign the value of 'num1' to it\n",
        "temp=num1\n",
        "# Step 3: Assign value of 'num2' to 'num1'\n",
        "num1=num2\n",
        "# Step 4: Assign value of 'temp' to 'num2'\n",
        "num2=temp\n",
        "# Step 5: Print the values of 'num1' and 'num2' after swapping\n",
        "print(\"The value of number 1 after swapping = \",num1)\n",
        "print(\"The value of number 2 after swapping = \",num2)"
      ],
      "execution_count": null,
      "outputs": [
        {
          "output_type": "stream",
          "text": [
            "Enter first number = 3\n",
            "Enter second number = 2\n",
            "The value of number 1 after swapping =  2\n",
            "The value of number 2 after swapping =  3\n"
          ],
          "name": "stdout"
        }
      ]
    },
    {
      "cell_type": "markdown",
      "metadata": {
        "id": "xJlPs9X9oeRw"
      },
      "source": [
        "---"
      ]
    },
    {
      "cell_type": "markdown",
      "metadata": {
        "id": "b4aeCDi0pkJz"
      },
      "source": [
        "#### Activity 2: Multiplying numbers of the list\n",
        "\n",
        "Create a list which contains some numbers and multiply all the numbers in the list. \n",
        " \n",
        "**Constraint:** The list should not be empty.\n",
        "\n",
        "For Example:\n",
        "\n",
        "```\n",
        "list[1,2,3] will give '6'\n",
        "list[2,3,7] will give '42'\n",
        "```\n",
        "\n",
        "Follow the steps given below to achieve the desired result:\n",
        "\n",
        "  - **Step 1**: Declare a list `num_list` containing some numbers.\n",
        "\n",
        "  - **Step 2**: Use `len()` function to find the length of the list and store it in `length` variable.\n",
        "\n",
        "  - **Step 3**: Initialize two variables: \n",
        "\n",
        "    1. `i = 0` (To hold index number needed for list indexing. As index always starts with `0`, that is why this variable is initialized to `0`.)\n",
        "    \n",
        "    2. `result = 1` (To store the product of numbers)\n",
        "\n",
        "  - **Step 4**: Use a `while` loop. This loop continues to iterate till all the numbers of the list are multiplied i.e. the condition for `while` loop to iterate is `i<length`. \n",
        "\n",
        "  - **Step 5**: Inside this `while` loop, perform the following tasks:\n",
        "      1.  Multiply the value stored in `result` variable with each element of the list. To access each number of the list, use list indexing.\n",
        "      2. Increment the value of variable `i` by `1`.\n",
        "\n",
        "  - **Step 6**: Print the result."
      ]
    },
    {
      "cell_type": "code",
      "metadata": {
        "id": "d5ufKLNYzsIl",
        "colab": {
          "base_uri": "https://localhost:8080/"
        },
        "outputId": "39e8e215-ea9e-44ef-d1b7-58a24b70eff5"
      },
      "source": [
        "# Write your code here\n",
        "# Step 1: Define a list with some random numbers \n",
        "num_list=[2,3,5,8,6,1]\n",
        "# Step 2: Get the length of the list using 'len()' function \n",
        "length=len(num_list)\n",
        "# Step 3: Initialize two variables 'i' and 'result' \n",
        "i=0\n",
        "result=1\n",
        "# Step 4: Iterate while loop till the length of the list\n",
        "while i<length:\n",
        "  # Step 5: Multiply the 'result' variable with each element of the list. Use list indexing\n",
        "  result=result*num_list[i]\n",
        " \n",
        "  # Increment 'i' variable\n",
        "  i=i+1\n",
        "# Step 6: Print the result\n",
        "print(result)"
      ],
      "execution_count": null,
      "outputs": [
        {
          "output_type": "stream",
          "text": [
            "1440\n"
          ],
          "name": "stdout"
        }
      ]
    },
    {
      "cell_type": "markdown",
      "metadata": {
        "id": "Owpfe6z4zQqa"
      },
      "source": [
        "---"
      ]
    },
    {
      "cell_type": "markdown",
      "metadata": {
        "id": "BNlGj8NNJ1Y0"
      },
      "source": [
        "### Submitting the Project:\n",
        "\n",
        "1. After finishing the project, click on the **Share** button on the top right corner of the notebook. A new dialog box will appear.\n",
        "\n",
        "  <img src='https://student-datasets-bucket.s3.ap-south-1.amazonaws.com/images/project-share-images/2_share_button.png' width=500>\n",
        "\n",
        "2. In the dialog box, make sure that '**Anyone on the Internet with this link can view**' option is selected and then click on the **Copy link** button.\n",
        "\n",
        "   <img src='https://student-datasets-bucket.s3.ap-south-1.amazonaws.com/images/project-share-images/3_copy_link.png' width=500>\n",
        "\n",
        "3. The link of the duplicate copy (named as **YYYY-MM-DD_StudentName_Project7**) of the notebook will get copied \n",
        "\n",
        "   <img src='https://student-datasets-bucket.s3.ap-south-1.amazonaws.com/images/project-share-images/4_copy_link_confirmation.png' width=500>\n",
        "\n",
        "4. Go to your dashboard and click on the **My Projects** option.\n",
        "   \n",
        "   <img src='https://student-datasets-bucket.s3.ap-south-1.amazonaws.com/images/project-share-images/5_student_dashboard.png' width=800>\n",
        "\n",
        "  <img src='https://student-datasets-bucket.s3.ap-south-1.amazonaws.com/images/project-share-images/6_my_projects.png' width=800>\n",
        "\n",
        "5. Click on the **View Project** button for the project you want to submit.\n",
        "\n",
        "   <img src='https://student-datasets-bucket.s3.ap-south-1.amazonaws.com/images/project-share-images/7_view_project.png' width=800>\n",
        "\n",
        "6. Click on the **Submit Project Here** button.\n",
        "\n",
        "   <img src='https://student-datasets-bucket.s3.ap-south-1.amazonaws.com/images/project-share-images/8_submit_project.png' width=800>\n",
        "\n",
        "7. Paste the link to the project file named as **YYYY-MM-DD_StudentName_Project7** in the URL box and then click on the **Submit** button.\n",
        "\n",
        "   <img src='https://student-datasets-bucket.s3.ap-south-1.amazonaws.com/images/project-share-images/9_enter_project_url.png' width=800> "
      ]
    },
    {
      "cell_type": "markdown",
      "metadata": {
        "id": "HSz7jRSlGxIO"
      },
      "source": [
        "---"
      ]
    }
  ]
}