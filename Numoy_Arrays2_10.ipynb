{
  "nbformat": 4,
  "nbformat_minor": 0,
  "metadata": {
    "colab": {
      "provenance": [],
      "collapsed_sections": [],
      "include_colab_link": true
    },
    "kernelspec": {
      "name": "python3",
      "display_name": "Python 3"
    }
  },
  "cells": [
    {
      "cell_type": "markdown",
      "metadata": {
        "id": "view-in-github",
        "colab_type": "text"
      },
      "source": [
        "<a href=\"https://colab.research.google.com/github/Pragna235/Python_Projects/blob/main/Numoy_Arrays2_10.ipynb\" target=\"_parent\"><img src=\"https://colab.research.google.com/assets/colab-badge.svg\" alt=\"Open In Colab\"/></a>"
      ]
    },
    {
      "cell_type": "markdown",
      "metadata": {
        "id": "YZnBY81YDCCr"
      },
      "source": [
        "### Instructions"
      ]
    },
    {
      "cell_type": "markdown",
      "metadata": {
        "id": "bEyBzxYRhrLG"
      },
      "source": [
        "#### Goal of the Project\n",
        "\n",
        "This project is designed for you to practice and solve the activities that are based on the concepts covered in the following lessons:\n",
        "\n",
        "1. Python Lists \n",
        "\n",
        "2. List Comprehension\n",
        "\n",
        "3. NumPy Arrays\n",
        "\n"
      ]
    },
    {
      "cell_type": "markdown",
      "metadata": {
        "id": "m1LornzlHT2V"
      },
      "source": [
        "---"
      ]
    },
    {
      "cell_type": "markdown",
      "metadata": {
        "id": "krym8CeMhscq"
      },
      "source": [
        "#### Getting Started:\n",
        "\n",
        "1. Click on this link to open the Colab file for this project.\n",
        "\n",
        "  https://colab.research.google.com/drive/1uRYiWYhdAhkShKOkc_1KE5j4lK1Mc8Lj?usp=sharing\n",
        "\n",
        "2. Create a duplicate copy of the Colab file as described below.\n",
        "\n",
        "  - Click on the **File menu**. A new drop-down list will appear.\n",
        "\n",
        "   <img src='https://student-datasets-bucket.s3.ap-south-1.amazonaws.com/images/lesson-0/0_file_menu.png' width=500>\n",
        "\n",
        "  - Click on the **Save a copy in Drive** option. A duplicate copy will get created. It will open up in the new tab on your web browser.\n",
        "\n",
        "  <img src='https://student-datasets-bucket.s3.ap-south-1.amazonaws.com/images/lesson-0/1_create_colab_duplicate_copy.png' width=500>\n",
        "\n",
        "3. After creating the duplicate copy of the notebook, please rename it in the **YYYY-MM-DD_StudentName_Project10** format.\n",
        "\n",
        "4. Now, write your code in the prescribed code cells.\n"
      ]
    },
    {
      "cell_type": "markdown",
      "metadata": {
        "id": "BBqkpH4_Doqe"
      },
      "source": [
        "---"
      ]
    },
    {
      "cell_type": "markdown",
      "metadata": {
        "id": "q4fH06mIjuK3"
      },
      "source": [
        "#### Activity 1: Create and update a null NumPy array \n",
        "\n",
        "Create a null NumPy array of size 10 and update the sixth value to 11.\n",
        "\n",
        "A null array is basically an array with all elements as `0`.\n",
        "\n",
        "Follow the steps given below to achieve the desired result:\n",
        "\n",
        "- **Step 1:** Import the Numpy module as `np`.\n",
        "\n",
        "- **Step 2**: Create a null array by passing the size i.e. `10` inside the `np.zeros()` function and store it in a variable `null_arr`. \n",
        "\n",
        "- **Step 3**: Print the null array.\n",
        "\n",
        "- **Step 4**: Now update the sixth element of the array by using **list indexing** method. As you need to update the sixth element, the index must be `5`.\n",
        "\n",
        "- **Step 5**: Print the updated array in the output.\n",
        "\n"
      ]
    },
    {
      "cell_type": "code",
      "metadata": {
        "id": "4EAoTskqg041",
        "colab": {
          "base_uri": "https://localhost:8080/"
        },
        "outputId": "3f07977b-f7c9-4512-f7a8-f6015c0850ca"
      },
      "source": [
        "# Write a program to create Null array of size 10 and update the sixth value to 11.\n",
        "import numpy as np\n",
        "null_arr=np.zeros(10)\n",
        "print(null_arr)\n",
        "null_arr[5]=11\n",
        "print(null_arr)"
      ],
      "execution_count": null,
      "outputs": [
        {
          "output_type": "stream",
          "text": [
            "[0. 0. 0. 0. 0. 0. 0. 0. 0. 0.]\n",
            "[ 0.  0.  0.  0.  0. 11.  0.  0.  0.  0.]\n"
          ],
          "name": "stdout"
        }
      ]
    },
    {
      "cell_type": "markdown",
      "metadata": {
        "id": "xJlPs9X9oeRw"
      },
      "source": [
        "---"
      ]
    },
    {
      "cell_type": "markdown",
      "metadata": {
        "id": "qA-b1CdeofKc"
      },
      "source": [
        "#### Activity 2: Populate a number list\n",
        "\n",
        "Write a program that populates a list by numbers that lie in the range of 0 to 49 and are also divisible by 5. Use the **List Comprehension** method.\n",
        "\n",
        "**Output**: `[0, 5, 10, 15, 20, 25, 30, 35, 40, 45]`\n",
        "\n",
        "\n"
      ]
    },
    {
      "cell_type": "code",
      "metadata": {
        "id": "AtvPTG3kpBoS",
        "colab": {
          "base_uri": "https://localhost:8080/"
        },
        "outputId": "5daff60d-97f5-4419-f8c3-bf30c5c69222"
      },
      "source": [
        "# Write a program to populate a number list divisible by 5 in a range of 0 - 49\n",
        "numbers=[i for i in range(0,50) if i%5==0]\n",
        "print(numbers)"
      ],
      "execution_count": null,
      "outputs": [
        {
          "output_type": "stream",
          "text": [
            "[0, 5, 10, 15, 20, 25, 30, 35, 40, 45]\n"
          ],
          "name": "stdout"
        }
      ]
    },
    {
      "cell_type": "markdown",
      "metadata": {
        "id": "KOVBiUSMzut1"
      },
      "source": [
        "---"
      ]
    },
    {
      "cell_type": "markdown",
      "metadata": {
        "id": "qgy1vfpsGZ8s"
      },
      "source": [
        "#### Activity 3: Convert a list into an array \n",
        "\n",
        "Write a program to convert a list of numeric values into a one-dimensional NumPy array.\n",
        "\n",
        "**For Example:**\n",
        "\n",
        "**Input**: `lst = [12.23, 13.32, 100, 36.32]`\n",
        "\n",
        "Data type of `lst` = `list`\n",
        "\n",
        "**Output**: `numpy_array = [12.23, 13.32, 100, 36.32]`\n",
        "\n",
        "Data type of `numpy_array` = `numpy.ndarray`"
      ]
    },
    {
      "cell_type": "code",
      "metadata": {
        "id": "J46QNv6bGbs-",
        "colab": {
          "base_uri": "https://localhost:8080/"
        },
        "outputId": "1ba98a17-5433-4e9a-bc7e-d844b8efcc07"
      },
      "source": [
        "# Write a program to convert a list into one dimensional NumPy array\n",
        "import numpy as np\n",
        "lst=[23.08,24.06,01.23,5.8]\n",
        "type(lst)\n",
        "numpy_array=np.array(lst)\n",
        "print(\"numpy array = \",numpy_array)\n",
        "type(numpy_array)"
      ],
      "execution_count": null,
      "outputs": [
        {
          "output_type": "stream",
          "text": [
            "numpy array =  [23.08 24.06  1.23  5.8 ]\n"
          ],
          "name": "stdout"
        },
        {
          "output_type": "execute_result",
          "data": {
            "text/plain": [
              "numpy.ndarray"
            ]
          },
          "metadata": {
            "tags": []
          },
          "execution_count": 9
        }
      ]
    },
    {
      "cell_type": "markdown",
      "metadata": {
        "id": "1CbaU38eGnx1"
      },
      "source": [
        "---"
      ]
    },
    {
      "cell_type": "markdown",
      "metadata": {
        "id": "BNlGj8NNJ1Y0"
      },
      "source": [
        "### Submitting the Project:\n",
        "\n",
        "1. After finishing the project, click on the **Share** button on the top right corner of the notebook. A new dialog box will appear.\n",
        "\n",
        "  <img src='https://student-datasets-bucket.s3.ap-south-1.amazonaws.com/images/project-share-images/2_share_button.png' width=500>\n",
        "\n",
        "2. In the dialog box, make sure that '**Anyone on the Internet with this link can view**' option is selected and then click on the **Copy link** button.\n",
        "\n",
        "   <img src='https://student-datasets-bucket.s3.ap-south-1.amazonaws.com/images/project-share-images/3_copy_link.png' width=500>\n",
        "\n",
        "3. The link of the duplicate copy (named as **YYYY-MM-DD_StudentName_Project10**) of the notebook will get copied \n",
        "\n",
        "   <img src='https://student-datasets-bucket.s3.ap-south-1.amazonaws.com/images/project-share-images/4_copy_link_confirmation.png' width=500>\n",
        "\n",
        "4. Go to your dashboard and click on the **My Projects** option.\n",
        "   \n",
        "   <img src='https://student-datasets-bucket.s3.ap-south-1.amazonaws.com/images/project-share-images/5_student_dashboard.png' width=800>\n",
        "\n",
        "  <img src='https://student-datasets-bucket.s3.ap-south-1.amazonaws.com/images/project-share-images/6_my_projects.png' width=800>\n",
        "\n",
        "5. Click on the **View Project** button for the project you want to submit.\n",
        "\n",
        "   <img src='https://student-datasets-bucket.s3.ap-south-1.amazonaws.com/images/project-share-images/7_view_project.png' width=800>\n",
        "\n",
        "6. Click on the **Submit Project Here** button.\n",
        "\n",
        "   <img src='https://student-datasets-bucket.s3.ap-south-1.amazonaws.com/images/project-share-images/8_submit_project.png' width=800>\n",
        "\n",
        "7. Paste the link to the project file named as **YYYY-MM-DD_StudentName_Project10** in the URL box and then click on the **Submit** button.\n",
        "\n",
        "   <img src='https://student-datasets-bucket.s3.ap-south-1.amazonaws.com/images/project-share-images/9_enter_project_url.png' width=800> "
      ]
    },
    {
      "cell_type": "markdown",
      "metadata": {
        "id": "SVkV5CxUHO0I"
      },
      "source": [
        "---"
      ]
    }
  ]
}