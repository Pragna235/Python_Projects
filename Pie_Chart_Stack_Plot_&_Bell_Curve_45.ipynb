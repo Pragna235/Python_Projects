{
  "nbformat": 4,
  "nbformat_minor": 0,
  "metadata": {
    "colab": {
      "provenance": [],
      "collapsed_sections": [],
      "include_colab_link": true
    },
    "kernelspec": {
      "name": "python3",
      "display_name": "Python 3"
    }
  },
  "cells": [
    {
      "cell_type": "markdown",
      "metadata": {
        "id": "view-in-github",
        "colab_type": "text"
      },
      "source": [
        "<a href=\"https://colab.research.google.com/github/Pragna235/Python_Projects/blob/main/Pie_Chart_Stack_Plot_%26_Bell_Curve_45.ipynb\" target=\"_parent\"><img src=\"https://colab.research.google.com/assets/colab-badge.svg\" alt=\"Open In Colab\"/></a>"
      ]
    },
    {
      "cell_type": "markdown",
      "metadata": {
        "id": "YZnBY81YDCCr"
      },
      "source": [
        "### Instructions"
      ]
    },
    {
      "cell_type": "markdown",
      "metadata": {
        "id": "fIKnY8occu37"
      },
      "source": [
        "#### Goal of the Project\n",
        "\n",
        "This project is designed for you to practice and solve the activities that are based on the concepts covered in the following lessons:\n",
        "\n",
        "1. String Operations\n",
        "\n",
        "2. Pie Chart and Bell Curve\n"
      ]
    },
    {
      "cell_type": "markdown",
      "metadata": {
        "id": "BBqkpH4_Doqe"
      },
      "source": [
        "---"
      ]
    },
    {
      "cell_type": "markdown",
      "metadata": {
        "id": "uMoxzydgscyN"
      },
      "source": [
        "#### Getting Started:\n",
        "\n",
        "1. Click on this link to open the Colab file for this project.\n",
        "\n",
        "   https://colab.research.google.com/drive/1flUcffASE3fKZljcI_vBUW8xtqw5M7pd\n",
        "\n",
        "2. Create a duplicate copy of the Colab file as described below.\n",
        "\n",
        "  - Click on the **File menu**. A new drop-down list will appear.\n",
        "\n",
        "   <img src='https://student-datasets-bucket.s3.ap-south-1.amazonaws.com/images/lesson-0/0_file_menu.png' width=500>\n",
        "\n",
        "  - Click on the **Save a copy in Drive** option. A duplicate copy will get created. It will open up in the new tab on your web browser.\n",
        "\n",
        "  <img src='https://student-datasets-bucket.s3.ap-south-1.amazonaws.com/images/lesson-0/1_create_colab_duplicate_copy.png' width=500>\n",
        "\n",
        "3. After creating the duplicate copy of the notebook, please rename it in the **YYYY-MM-DD_StudentName_Project45** format.\n",
        "\n",
        "4. Now, write your code in the prescribed code cells.\n"
      ]
    },
    {
      "cell_type": "markdown",
      "metadata": {
        "id": "22SgPsQksb1V"
      },
      "source": [
        "---"
      ]
    },
    {
      "cell_type": "markdown",
      "metadata": {
        "id": "H0P9F3DUf8x2"
      },
      "source": [
        "### Activities\n",
        "\n",
        "\n",
        "  "
      ]
    },
    {
      "cell_type": "markdown",
      "metadata": {
        "id": "BVT9G_baB1aq"
      },
      "source": [
        "#### Activity 1: Check Almost Palindrome\n",
        "\n",
        "A string is an **almost-palindrome** if by changing only one character, you can make it a palindrome. \n",
        "\n",
        "Create a function that returns `True` if a string is an almost-palindrome and `False` otherwise.\n",
        "\n",
        "**Example:** \n",
        "```\n",
        "almost_palindrome(\"abcdcbg\") ➞ True\n",
        "```\n",
        "\n",
        "The string `\"abcdcbg\"` is an almost palindrome because by replacing `\"g\"` with `\"a\"`, we can get a proper palindrome, i.e., `\"abcdcba\"`.\n",
        "\n",
        "\n",
        "Similarly, here are a few more examples of the strings which are either almost palindromes or not.\n",
        "\n",
        "```\n",
        "almost_palindrome(\"abccia\") ➞ True\n",
        "# Can be transformed to \"abccba\" by replacing \"i\" to \"b\".\n",
        "\n",
        "almost_palindrome(\"abcdaaa\") ➞ False\n",
        "# Can't be transformed to a palindrome by replacing exactly one item.\n",
        "\n",
        "almost_palindrome(\"1234312\") ➞ False\n",
        "# Can't be transformed to a palindrome by replacing exactly one item.\n",
        "```"
      ]
    },
    {
      "cell_type": "code",
      "metadata": {
        "id": "0pIGxKG9B3mb",
        "colab": {
          "base_uri": "https://localhost:8080/"
        },
        "outputId": "d6a2b425-96aa-4407-a181-6e862151b046"
      },
      "source": [
        "# Write your solution here\n",
        "# Create a function that takes a string as an argument\n",
        "def almost_palindrome(string):\n",
        "\n",
        "    # Find the reverse of the string passed as the parameter\n",
        "    reverse=string[::-1]\n",
        "    counter=0\n",
        "    # Using 'for' loop, iterate through each letter of the string,\n",
        "    # check whether each letter of the reversed string matches with the letter at same index in the original string, if yes, increment the counter\n",
        "    for i in range(len(string)):\n",
        "      if reverse[i]==string[i]:\n",
        "        counter+=1\n",
        "        \n",
        "      \n",
        "\n",
        "\n",
        "    \n",
        "    # If the difference between counter value and length of the string is exactly 1 then return True, else return False\n",
        "    if len(string)-counter==2:\n",
        "      return True\n",
        "    else:\n",
        "      return False\n",
        "# Call the function\n",
        "almost_palindrome('abccia')"
      ],
      "execution_count": null,
      "outputs": [
        {
          "output_type": "execute_result",
          "data": {
            "text/plain": [
              "True"
            ]
          },
          "metadata": {
            "tags": []
          },
          "execution_count": 21
        }
      ]
    },
    {
      "cell_type": "markdown",
      "metadata": {
        "id": "IJIZASayCpEW"
      },
      "source": [
        "---"
      ]
    },
    {
      "cell_type": "markdown",
      "metadata": {
        "id": "5kBinzKxn3hd"
      },
      "source": [
        "#### Activity 2: Karaca's Encryption Algorithm\n",
        "\n",
        "You need to write a program that encrypts a word into an alphanumeric string but containing only numbers and letters and not the special characters.\n",
        "\n",
        "Consider the word `apple`. It needs to be encrypted by following the steps provided below.\n",
        "\n",
        "- **Step 1:** Reverse the position of the letters of the word, i.e., `elppa`\n",
        "\n",
        "- **Step 2:** Replace the vowels as follows:\n",
        "\n",
        "  - `a` with `0`\n",
        "\n",
        "  - `e` with `1`\n",
        "\n",
        "  - `i` with `2`\n",
        "\n",
        "  - `o` with `3`\n",
        "\n",
        "  - `u` with `4`\n",
        "\n",
        "  At the end of the second step, you should get `1lpp0` string.\n",
        "\n",
        "- **Step 3:** Add `aca` to the end of the string generated in the second step, i.e., `1lpp0aca`. This is the encrypted form of the word `apple`.\n",
        "\n"
      ]
    },
    {
      "cell_type": "code",
      "metadata": {
        "id": "4gjDvOhzn6TL",
        "colab": {
          "base_uri": "https://localhost:8080/",
          "height": 35
        },
        "outputId": "a1d91523-b38d-4e7c-b7fb-e20bdbf6e6fc"
      },
      "source": [
        "# Write a program that encrypts the word using Karaca's encryption technique.\n",
        "# Create a function which takes a string to be encrypted as parameter\n",
        "def karaca_encryption(string):\n",
        "\n",
        "  # Find reverse of the string passed as parameter \n",
        "  reverse=string[::-1]\n",
        "\n",
        "  # Replace vowels in the reversed string\n",
        "  for i in string:\n",
        "    if i=='a':\n",
        "      reverse=reverse.replace('a','0')\n",
        "    elif i=='e':\n",
        "      reverse=reverse.replace('e','1')\n",
        "    elif i=='i':\n",
        "      reverse=reverse.replace('i','2')\n",
        "    elif i=='o':\n",
        "      reverse=reverse.replace('o','3')\n",
        "    elif i=='u':\n",
        "      reverse=reverse.replace('u','4')\n",
        "\n",
        "\n",
        "  # Concatenate 'aca' to the string obtained after replacing vowels and return this string\n",
        "  code=reverse+'aca'\n",
        "  return code\n",
        "\n",
        "# Call the function\n",
        "karaca_encryption('burak')\n"
      ],
      "execution_count": null,
      "outputs": [
        {
          "output_type": "execute_result",
          "data": {
            "application/vnd.google.colaboratory.intrinsic+json": {
              "type": "string"
            },
            "text/plain": [
              "'k0r4baca'"
            ]
          },
          "metadata": {
            "tags": []
          },
          "execution_count": 29
        }
      ]
    },
    {
      "cell_type": "markdown",
      "metadata": {
        "id": "bBMg7r4xruSD"
      },
      "source": [
        "**Q** :What is Karaca's encryption for the word 'burak' ?\n",
        "\n",
        "**A** :The Karaca's encryption for the word 'burak' is 'k0r4baca'."
      ]
    },
    {
      "cell_type": "markdown",
      "metadata": {
        "id": "MWkPEALQn-lN"
      },
      "source": [
        "---"
      ]
    },
    {
      "cell_type": "markdown",
      "metadata": {
        "id": "CzoR_zE1rz0t"
      },
      "source": [
        "### Activity 3: Create a pie chart \n",
        "\n",
        "Given below the data of different luxury car sales per month in two separate lists. Create a pie chart, slice it and label the slices with the brand names of the cars and also calculate the percentage of car sales for each brand.\n",
        "\n",
        "List of car brands and their corresponding sales data:\n",
        "\n",
        "```\n",
        "car_brand = ['AUDI', 'BMW', 'FORD', 'TESLA', 'JAGUAR', 'MERCEDES'] \n",
        "sales_data = [23, 17, 35, 29, 12, 41] \n",
        "```\n",
        "\n",
        "**Note:** Consider the values in `car_brand` list as labels of the pie chart and `sales_data` list as the actual dataset."
      ]
    },
    {
      "cell_type": "code",
      "metadata": {
        "id": "izXCvjP8r0z9",
        "colab": {
          "base_uri": "https://localhost:8080/",
          "height": 387
        },
        "outputId": "4d4ff6e9-fe20-4327-fa06-7304283fffaa"
      },
      "source": [
        "# Create a pie chart by using the above data\n",
        "import matplotlib.pyplot as plt\n",
        "explode=[0,0.10,0.10,0.10,0.10,0.10]\n",
        "car_brand = ['AUDI', 'BMW', 'FORD', 'TESLA', 'JAGUAR', 'MERCEDES'] \n",
        "sales_data = [23, 17, 35, 29, 12, 41] \n",
        "plt.figure(dpi=108)\n",
        "plt.title('Percentage of car sales for each brand')\n",
        "plt.pie(sales_data,labels=car_brand,wedgeprops={'edgecolor':'k'},autopct='%1.2f%%',explode=explode,shadow=True)\n",
        "plt.show()"
      ],
      "execution_count": null,
      "outputs": [
        {
          "output_type": "display_data",
          "data": {
            "image/png": "[encoded data removed]",
            "text/plain": [
              "<Figure size 648x432 with 1 Axes>"
            ]
          },
          "metadata": {
            "tags": []
          }
        }
      ]
    },
    {
      "cell_type": "markdown",
      "metadata": {
        "id": "1Vx65kAMryuB"
      },
      "source": [
        "---"
      ]
    },
    {
      "cell_type": "markdown",
      "metadata": {
        "id": "VUbUGCCMsxr7"
      },
      "source": [
        "### Submitting the Project:\n",
        "\n",
        "1. After finishing the project, click on the **Share** button on the top right corner of the notebook. A new dialog box will appear.\n",
        "\n",
        "  <img src='https://student-datasets-bucket.s3.ap-south-1.amazonaws.com/images/project-share-images/2_share_button.png' width=500>\n",
        "\n",
        "2. In the dialog box, make sure that '**Anyone on the Internet with this link can view**' option is selected and then click on the **Copy link** button.\n",
        "\n",
        "   <img src='https://student-datasets-bucket.s3.ap-south-1.amazonaws.com/images/project-share-images/3_copy_link.png' width=500>\n",
        "\n",
        "3. The link of the duplicate copy (named as **YYYY-MM-DD_StudentName_Project45**) of the notebook will get copied \n",
        "\n",
        "   <img src='https://student-datasets-bucket.s3.ap-south-1.amazonaws.com/images/project-share-images/4_copy_link_confirmation.png' width=500>\n",
        "\n",
        "4. Go to your dashboard and click on the **My Projects** option.\n",
        "   \n",
        "   <img src='https://student-datasets-bucket.s3.ap-south-1.amazonaws.com/images/project-share-images/5_student_dashboard.png' width=800>\n",
        "\n",
        "  <img src='https://student-datasets-bucket.s3.ap-south-1.amazonaws.com/images/project-share-images/6_my_projects.png' width=800>\n",
        "\n",
        "5. Click on the **View Project** button for the project you want to submit.\n",
        "\n",
        "   <img src='https://student-datasets-bucket.s3.ap-south-1.amazonaws.com/images/project-share-images/7_view_project.png' width=800>\n",
        "\n",
        "6. Click on the **Submit Project Here** button.\n",
        "\n",
        "   <img src='https://student-datasets-bucket.s3.ap-south-1.amazonaws.com/images/project-share-images/8_submit_project.png' width=800>\n",
        "\n",
        "7. Paste the link to the project file named as **YYYY-MM-DD_StudentName_Project45** in the URL box and then click on the **Submit** button.\n",
        "\n",
        "   <img src='https://student-datasets-bucket.s3.ap-south-1.amazonaws.com/images/project-share-images/9_enter_project_url.png' width=800> "
      ]
    },
    {
      "cell_type": "markdown",
      "metadata": {
        "id": "1yXR5W6bswq-"
      },
      "source": [
        "---"
      ]
    }
  ]
}