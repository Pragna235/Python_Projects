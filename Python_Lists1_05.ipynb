{
  "nbformat": 4,
  "nbformat_minor": 0,
  "metadata": {
    "colab": {
      "provenance": [],
      "collapsed_sections": [],
      "include_colab_link": true
    },
    "kernelspec": {
      "name": "python3",
      "display_name": "Python 3"
    }
  },
  "cells": [
    {
      "cell_type": "markdown",
      "metadata": {
        "id": "view-in-github",
        "colab_type": "text"
      },
      "source": [
        "<a href=\"https://colab.research.google.com/github/Pragna235/Python_Projects/blob/main/Python_Lists1_05.ipynb\" target=\"_parent\"><img src=\"https://colab.research.google.com/assets/colab-badge.svg\" alt=\"Open In Colab\"/></a>"
      ]
    },
    {
      "cell_type": "markdown",
      "metadata": {
        "id": "YZnBY81YDCCr"
      },
      "source": [
        "### Instructions"
      ]
    },
    {
      "cell_type": "markdown",
      "metadata": {
        "id": "bEyBzxYRhrLG"
      },
      "source": [
        "#### Goal of the Project\n",
        "\n",
        "This project is designed for you to practice and solve the activities that are based on the concepts covered in the following lessons:\n",
        "\n",
        " 1. While Loop, Data-Type Conversion and Conditional Statements\n",
        " \n",
        " 2.  Improving the Algorithm\n",
        " \n",
        " 3.  Python Lists I\n"
      ]
    },
    {
      "cell_type": "markdown",
      "metadata": {
        "id": "DPOFIO3EHncO"
      },
      "source": [
        "---"
      ]
    },
    {
      "cell_type": "markdown",
      "metadata": {
        "id": "krym8CeMhscq"
      },
      "source": [
        "#### Getting Started:\n",
        "\n",
        "1. Click on this link to open the Colab file for this project.\n",
        "\n",
        "    https://colab.research.google.com/drive/1M8W-77kWpRGlM_DtErTfFirQqrpr-jAj?usp=sharing\n",
        "\n",
        "2. Create a duplicate copy of the Colab file as described below.\n",
        "\n",
        "  - Click on the **File menu**. A new drop-down list will appear.\n",
        "\n",
        "   <img src='https://student-datasets-bucket.s3.ap-south-1.amazonaws.com/images/lesson-0/0_file_menu.png' width=500>\n",
        "\n",
        "  - Click on the **Save a copy in Drive** option. A duplicate copy will get created. It will open up in the new tab on your web browser.\n",
        "\n",
        "  <img src='https://student-datasets-bucket.s3.ap-south-1.amazonaws.com/images/lesson-0/1_create_colab_duplicate_copy.png' width=500>\n",
        "\n",
        "3. After creating the duplicate copy of the notebook, please rename it in the **YYYY-MM-DD_StudentName_Project5** format.\n",
        "\n",
        "4. Now, write your code in the prescribed code cells.\n"
      ]
    },
    {
      "cell_type": "markdown",
      "metadata": {
        "id": "BBqkpH4_Doqe"
      },
      "source": [
        "---"
      ]
    },
    {
      "cell_type": "markdown",
      "metadata": {
        "id": "5LfgqIlZhrnd"
      },
      "source": [
        "### Activities"
      ]
    },
    {
      "cell_type": "markdown",
      "metadata": {
        "id": "q4fH06mIjuK3"
      },
      "source": [
        "#### Activity 1: Even or Odd \n",
        "\n",
        "Accept a number from the user and check whether it is even or odd.\n",
        " \n",
        "For Example:\n",
        "\n",
        "**Input**:  24\n",
        "\n",
        "**Ouput**: Even number\n",
        "\n",
        "\n",
        "Follow the steps given below to achieve the desired result:\n",
        "\n",
        "  - **Step 1**: Ask the user to enter a number. \n",
        "  \n",
        "  - **Step 2**: Convert the data type of user input to integer and then store it in a variable `num`.\n",
        "\n",
        "  - **Step 3**: Use `if` statement to determine whether the entered number is odd or even. For this, use modulo division (%). The result of a modulo division is the `remainder` of an integer division. If the number is completely divisible by 2, then print `Even number` else print `Odd number`.\n",
        "\n",
        "   "
      ]
    },
    {
      "cell_type": "code",
      "metadata": {
        "id": "4EAoTskqg041",
        "colab": {
          "base_uri": "https://localhost:8080/"
        },
        "outputId": "cdc0cfdd-ec22-4fe2-b321-5426ea3870fb"
      },
      "source": [
        "# Write your code here\n",
        "# Step 1: Accept a number from the user. Convert it into an integer and then store it in a variable 'num'\n",
        "num=input(\"Enter your number = \")\n",
        "num=int(num)\n",
        "# Step 2: Use if condition to check whether the number is even or odd using (%) operator\n",
        "if num % 2 == 0:\n",
        "  print(\"Even number\")\n",
        "else:\n",
        "  print(\"Odd number\")\n",
        "\n",
        "\n"
      ],
      "execution_count": null,
      "outputs": [
        {
          "output_type": "stream",
          "text": [
            "Enter your number = 5\n",
            "Odd number\n"
          ],
          "name": "stdout"
        }
      ]
    },
    {
      "cell_type": "markdown",
      "metadata": {
        "id": "xJlPs9X9oeRw"
      },
      "source": [
        "---"
      ]
    },
    {
      "cell_type": "markdown",
      "metadata": {
        "id": "qA-b1CdeofKc"
      },
      "source": [
        "#### Activity 2: Area of Triangle\n",
        "\n",
        "Create a function `tri_area()` that accepts `base` and `height` of a triangle as input parameters and returns its area.\n",
        "\n",
        "**Example**\n",
        "```\n",
        "1. tri_area(3, 2) ➞ 3\n",
        "\n",
        "2. tri_area(7, 4) ➞ 14\n",
        "\n",
        "3. tri_area(10, 10) ➞ 50\n",
        "```\n",
        "\n",
        "**Note:**\n",
        "\n",
        "Area of a triangle is : $$\\frac{(base * height)} {2}$$\n",
        "\n",
        "\n",
        "\n",
        "Follow the steps given below to achieve the desired result:\n",
        "\n",
        "  - **Step 1**: Define a function `tri_area()` with base and height as parameters.\n",
        "\n",
        "  - **Step 2**: Calculate the area of triangle by using its formula and store the result in the variable `area`.\n",
        "\n",
        "  - **Step 3**: Return the calculated result using `return` statement.\n",
        "\n",
        "  - **Step 4**: Call the `tri_area()` function.\n"
      ]
    },
    {
      "cell_type": "code",
      "metadata": {
        "id": "AtvPTG3kpBoS",
        "colab": {
          "base_uri": "https://localhost:8080/"
        },
        "outputId": "a46fa2ae-02d1-41fa-a548-39ef9e27eca7"
      },
      "source": [
        "# Write your code here\n",
        "# Step 1: Define a function 'tri_area()'\n",
        "base=input(\"Enter base = \")\n",
        "height=input(\"Enter height =  \")\n",
        "\n",
        "base=int(base)\n",
        "height=int(height)\n",
        "\n",
        "def tri_area(base,height):\n",
        "\t\n",
        "\t# Step 2: Calculate area using the formula\n",
        "\tarea=(base*height)/2\n",
        "\t# Step 3: Return the calculated area.\n",
        "\treturn area\n",
        "# Step 4: Call the 'tri_area()' function \n",
        "tri_area(base,height)\n"
      ],
      "execution_count": null,
      "outputs": [
        {
          "output_type": "stream",
          "text": [
            "Enter base = 2\n",
            "Enter height =  3\n"
          ],
          "name": "stdout"
        },
        {
          "output_type": "execute_result",
          "data": {
            "text/plain": [
              "3.0"
            ]
          },
          "metadata": {
            "tags": []
          },
          "execution_count": 12
        }
      ]
    },
    {
      "cell_type": "markdown",
      "metadata": {
        "id": "KOVBiUSMzut1"
      },
      "source": [
        "---"
      ]
    },
    {
      "cell_type": "markdown",
      "metadata": {
        "id": "b4aeCDi0pkJz"
      },
      "source": [
        "#### Activity 3: Appending lists\n",
        "\n",
        "Create two different lists which consist of any random numbers and append the second list to the first. Also, print the new list obtained after appending.\n",
        "\n",
        "**For Example:**\n",
        "\n",
        "If `list1=[1,2,4]` and `list2=[5,6,8]` then the output will be `[1,2,4, [5,6,8]]` \n",
        "\n",
        "Follow the steps given below to achieve the desired result:\n",
        "\n",
        "  - **Step 1**: Define two lists - `list1` and `list2` - having some random numeric values.\n",
        "\n",
        "  - **Step 2**: Use `append()` function to append `list2` with `list1`.\n",
        "\n",
        "  - **Step 3**: Print the newly appended list `list1`. \n"
      ]
    },
    {
      "cell_type": "code",
      "metadata": {
        "id": "d5ufKLNYzsIl",
        "colab": {
          "base_uri": "https://localhost:8080/"
        },
        "outputId": "e1dcdd5d-d588-4447-975d-6360b3d1e622"
      },
      "source": [
        "# Write your solution here\n",
        "# Step 1: Define two lists `list1` and `list2`\n",
        "list1 = ['23','8','24','1']\n",
        "list2 = ['27','17','14','5']\n",
        "# Step 2: Use `append()` to append second list with the first list\n",
        "list1.append(list2)\n",
        "# Step 3: Print `list1` to get the new list\n",
        "print(list1)"
      ],
      "execution_count": null,
      "outputs": [
        {
          "output_type": "stream",
          "text": [
            "['23', '8', '24', '1', ['27', '17', '14', '5']]\n"
          ],
          "name": "stdout"
        }
      ]
    },
    {
      "cell_type": "markdown",
      "metadata": {
        "id": "iNrAtdLcq4kq"
      },
      "source": [
        "---"
      ]
    },
    {
      "cell_type": "markdown",
      "metadata": {
        "id": "BNlGj8NNJ1Y0"
      },
      "source": [
        "### Submitting the Project:\n",
        "\n",
        "1. After finishing the project, click on the **Share** button on the top right corner of the notebook. A new dialog box will appear.\n",
        "\n",
        "  <img src='https://student-datasets-bucket.s3.ap-south-1.amazonaws.com/images/project-share-images/2_share_button.png' width=500>\n",
        "\n",
        "2. In the dialog box, make sure that '**Anyone on the Internet with this link can view**' option is selected and then click on the **Copy link** button.\n",
        "\n",
        "   <img src='https://student-datasets-bucket.s3.ap-south-1.amazonaws.com/images/project-share-images/3_copy_link.png' width=500>\n",
        "\n",
        "3. The link of the duplicate copy (named as **YYYY-MM-DD_StudentName_Project5**) of the notebook will get copied \n",
        "\n",
        "   <img src='https://student-datasets-bucket.s3.ap-south-1.amazonaws.com/images/project-share-images/4_copy_link_confirmation.png' width=500>\n",
        "\n",
        "4. Go to your dashboard and click on the **My Projects** option.\n",
        "   \n",
        "   <img src='https://student-datasets-bucket.s3.ap-south-1.amazonaws.com/images/project-share-images/5_student_dashboard.png' width=800>\n",
        "\n",
        "  <img src='https://student-datasets-bucket.s3.ap-south-1.amazonaws.com/images/project-share-images/6_my_projects.png' width=800>\n",
        "\n",
        "5. Click on the **View Project** button for the project you want to submit.\n",
        "\n",
        "   <img src='https://student-datasets-bucket.s3.ap-south-1.amazonaws.com/images/project-share-images/7_view_project.png' width=800>\n",
        "\n",
        "6. Click on the **Submit Project Here** button.\n",
        "\n",
        "   <img src='https://student-datasets-bucket.s3.ap-south-1.amazonaws.com/images/project-share-images/8_submit_project.png' width=800>\n",
        "\n",
        "7. Paste the link to the project file named as **YYYY-MM-DD_StudentName_Project5** in the URL box and then click on the **Submit** button.\n",
        "\n",
        "   <img src='https://student-datasets-bucket.s3.ap-south-1.amazonaws.com/images/project-share-images/9_enter_project_url.png' width=800> "
      ]
    },
    {
      "cell_type": "markdown",
      "metadata": {
        "id": "HSz7jRSlGxIO"
      },
      "source": [
        "---"
      ]
    }
  ]
}